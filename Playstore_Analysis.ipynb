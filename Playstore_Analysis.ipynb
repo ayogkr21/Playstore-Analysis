{
  "nbformat": 4,
  "nbformat_minor": 0,
  "metadata": {
    "colab": {
      "name": "Playstore Analysis.ipynb",
      "provenance": [],
      "collapsed_sections": [],
      "authorship_tag": "ABX9TyMNNFR2ZkxJ26t30hHa4Wx/",
      "include_colab_link": true
    },
    "kernelspec": {
      "name": "python3",
      "display_name": "Python 3"
    },
    "language_info": {
      "name": "python"
    }
  },
  "cells": [
    {
      "cell_type": "markdown",
      "metadata": {
        "id": "view-in-github",
        "colab_type": "text"
      },
      "source": [
        "<a href=\"https://colab.research.google.com/github/ayogkr21/Playstore-Analysis/blob/main/Playstore_Analysis.ipynb\" target=\"_parent\"><img src=\"https://colab.research.google.com/assets/colab-badge.svg\" alt=\"Open In Colab\"/></a>"
      ]
    },
    {
      "cell_type": "markdown",
      "source": [
        "### Importing various libraries"
      ],
      "metadata": {
        "id": "s0sYBeT3qnVQ"
      }
    },
    {
      "cell_type": "code",
      "execution_count": 7,
      "metadata": {
        "id": "923DP-2iqeO3"
      },
      "outputs": [],
      "source": [
        "import pandas as pd\n",
        "import numpy as np\n",
        "import matplotlib.pyplot as plt, seaborn as sns\n",
        "%matplotlib inline"
      ]
    },
    {
      "cell_type": "markdown",
      "source": [
        "Importing Dataset of Playstore"
      ],
      "metadata": {
        "id": "Zb7rH5-3qvmf"
      }
    },
    {
      "cell_type": "code",
      "source": [
        "data = pd.read_csv(\"/content/drive/MyDrive/Colab Notebooks/csv file/playstore-analysis.csv\")\n",
        "data"
      ],
      "metadata": {
        "colab": {
          "base_uri": "https://localhost:8080/",
          "height": 780
        },
        "id": "xU8wZT84quD6",
        "outputId": "66e2b5c8-ef61-44c3-c031-49930a0b93d8"
      },
      "execution_count": 8,
      "outputs": [
        {
          "output_type": "execute_result",
          "data": {
            "text/plain": [
              "                                                     App             Category  \\\n",
              "0         Photo Editor & Candy Camera & Grid & ScrapBook       ART_AND_DESIGN   \n",
              "1                                    Coloring book moana       ART_AND_DESIGN   \n",
              "2      U Launcher Lite – FREE Live Cool Themes, Hide ...       ART_AND_DESIGN   \n",
              "3                                  Sketch - Draw & Paint       ART_AND_DESIGN   \n",
              "4                  Pixel Draw - Number Art Coloring Book       ART_AND_DESIGN   \n",
              "...                                                  ...                  ...   \n",
              "10836                                   Sya9a Maroc - FR               FAMILY   \n",
              "10837                   Fr. Mike Schmitz Audio Teachings               FAMILY   \n",
              "10838                             Parkinson Exercices FR              MEDICAL   \n",
              "10839                      The SCP Foundation DB fr nn5n  BOOKS_AND_REFERENCE   \n",
              "10840      iHoroscope - 2018 Daily Horoscope & Astrology            LIFESTYLE   \n",
              "\n",
              "       Rating Reviews          Size     Installs  Type Price Content Rating  \\\n",
              "0         4.1     159  19000.000000      10,000+  Free     0       Everyone   \n",
              "1         3.9     967  14000.000000     500,000+  Free     0       Everyone   \n",
              "2         4.7   87510   8700.000000   5,000,000+  Free     0       Everyone   \n",
              "3         4.5  215644  25000.000000  50,000,000+  Free     0           Teen   \n",
              "4         4.3     967   2800.000000     100,000+  Free     0       Everyone   \n",
              "...       ...     ...           ...          ...   ...   ...            ...   \n",
              "10836     4.5      38  53000.000000       5,000+  Free     0       Everyone   \n",
              "10837     5.0       4   3600.000000         100+  Free     0       Everyone   \n",
              "10838     NaN       3   9500.000000       1,000+  Free     0       Everyone   \n",
              "10839     4.5     114  21516.529524       1,000+  Free     0     Mature 17+   \n",
              "10840     4.5  398307  19000.000000  10,000,000+  Free     0       Everyone   \n",
              "\n",
              "                          Genres      Last Updated         Current Ver  \\\n",
              "0                   Art & Design   January 7, 2018               1.0.0   \n",
              "1      Art & Design;Pretend Play  January 15, 2018               2.0.0   \n",
              "2                   Art & Design    August 1, 2018               1.2.4   \n",
              "3                   Art & Design      June 8, 2018  Varies with device   \n",
              "4        Art & Design;Creativity     June 20, 2018                 1.1   \n",
              "...                          ...               ...                 ...   \n",
              "10836                  Education     July 25, 2017                1.48   \n",
              "10837                  Education      July 6, 2018                 1.0   \n",
              "10838                    Medical  January 20, 2017                 1.0   \n",
              "10839          Books & Reference  January 19, 2015  Varies with device   \n",
              "10840                  Lifestyle     July 25, 2018  Varies with device   \n",
              "\n",
              "              Android Ver  \n",
              "0            4.0.3 and up  \n",
              "1            4.0.3 and up  \n",
              "2            4.0.3 and up  \n",
              "3              4.2 and up  \n",
              "4              4.4 and up  \n",
              "...                   ...  \n",
              "10836          4.1 and up  \n",
              "10837          4.1 and up  \n",
              "10838          2.2 and up  \n",
              "10839  Varies with device  \n",
              "10840  Varies with device  \n",
              "\n",
              "[10841 rows x 13 columns]"
            ],
            "text/html": [
              "\n",
              "  <div id=\"df-81f2dcb5-91bb-4b2d-9fcd-fdbd42ce37f9\">\n",
              "    <div class=\"colab-df-container\">\n",
              "      <div>\n",
              "<style scoped>\n",
              "    .dataframe tbody tr th:only-of-type {\n",
              "        vertical-align: middle;\n",
              "    }\n",
              "\n",
              "    .dataframe tbody tr th {\n",
              "        vertical-align: top;\n",
              "    }\n",
              "\n",
              "    .dataframe thead th {\n",
              "        text-align: right;\n",
              "    }\n",
              "</style>\n",
              "<table border=\"1\" class=\"dataframe\">\n",
              "  <thead>\n",
              "    <tr style=\"text-align: right;\">\n",
              "      <th></th>\n",
              "      <th>App</th>\n",
              "      <th>Category</th>\n",
              "      <th>Rating</th>\n",
              "      <th>Reviews</th>\n",
              "      <th>Size</th>\n",
              "      <th>Installs</th>\n",
              "      <th>Type</th>\n",
              "      <th>Price</th>\n",
              "      <th>Content Rating</th>\n",
              "      <th>Genres</th>\n",
              "      <th>Last Updated</th>\n",
              "      <th>Current Ver</th>\n",
              "      <th>Android Ver</th>\n",
              "    </tr>\n",
              "  </thead>\n",
              "  <tbody>\n",
              "    <tr>\n",
              "      <th>0</th>\n",
              "      <td>Photo Editor &amp; Candy Camera &amp; Grid &amp; ScrapBook</td>\n",
              "      <td>ART_AND_DESIGN</td>\n",
              "      <td>4.1</td>\n",
              "      <td>159</td>\n",
              "      <td>19000.000000</td>\n",
              "      <td>10,000+</td>\n",
              "      <td>Free</td>\n",
              "      <td>0</td>\n",
              "      <td>Everyone</td>\n",
              "      <td>Art &amp; Design</td>\n",
              "      <td>January 7, 2018</td>\n",
              "      <td>1.0.0</td>\n",
              "      <td>4.0.3 and up</td>\n",
              "    </tr>\n",
              "    <tr>\n",
              "      <th>1</th>\n",
              "      <td>Coloring book moana</td>\n",
              "      <td>ART_AND_DESIGN</td>\n",
              "      <td>3.9</td>\n",
              "      <td>967</td>\n",
              "      <td>14000.000000</td>\n",
              "      <td>500,000+</td>\n",
              "      <td>Free</td>\n",
              "      <td>0</td>\n",
              "      <td>Everyone</td>\n",
              "      <td>Art &amp; Design;Pretend Play</td>\n",
              "      <td>January 15, 2018</td>\n",
              "      <td>2.0.0</td>\n",
              "      <td>4.0.3 and up</td>\n",
              "    </tr>\n",
              "    <tr>\n",
              "      <th>2</th>\n",
              "      <td>U Launcher Lite – FREE Live Cool Themes, Hide ...</td>\n",
              "      <td>ART_AND_DESIGN</td>\n",
              "      <td>4.7</td>\n",
              "      <td>87510</td>\n",
              "      <td>8700.000000</td>\n",
              "      <td>5,000,000+</td>\n",
              "      <td>Free</td>\n",
              "      <td>0</td>\n",
              "      <td>Everyone</td>\n",
              "      <td>Art &amp; Design</td>\n",
              "      <td>August 1, 2018</td>\n",
              "      <td>1.2.4</td>\n",
              "      <td>4.0.3 and up</td>\n",
              "    </tr>\n",
              "    <tr>\n",
              "      <th>3</th>\n",
              "      <td>Sketch - Draw &amp; Paint</td>\n",
              "      <td>ART_AND_DESIGN</td>\n",
              "      <td>4.5</td>\n",
              "      <td>215644</td>\n",
              "      <td>25000.000000</td>\n",
              "      <td>50,000,000+</td>\n",
              "      <td>Free</td>\n",
              "      <td>0</td>\n",
              "      <td>Teen</td>\n",
              "      <td>Art &amp; Design</td>\n",
              "      <td>June 8, 2018</td>\n",
              "      <td>Varies with device</td>\n",
              "      <td>4.2 and up</td>\n",
              "    </tr>\n",
              "    <tr>\n",
              "      <th>4</th>\n",
              "      <td>Pixel Draw - Number Art Coloring Book</td>\n",
              "      <td>ART_AND_DESIGN</td>\n",
              "      <td>4.3</td>\n",
              "      <td>967</td>\n",
              "      <td>2800.000000</td>\n",
              "      <td>100,000+</td>\n",
              "      <td>Free</td>\n",
              "      <td>0</td>\n",
              "      <td>Everyone</td>\n",
              "      <td>Art &amp; Design;Creativity</td>\n",
              "      <td>June 20, 2018</td>\n",
              "      <td>1.1</td>\n",
              "      <td>4.4 and up</td>\n",
              "    </tr>\n",
              "    <tr>\n",
              "      <th>...</th>\n",
              "      <td>...</td>\n",
              "      <td>...</td>\n",
              "      <td>...</td>\n",
              "      <td>...</td>\n",
              "      <td>...</td>\n",
              "      <td>...</td>\n",
              "      <td>...</td>\n",
              "      <td>...</td>\n",
              "      <td>...</td>\n",
              "      <td>...</td>\n",
              "      <td>...</td>\n",
              "      <td>...</td>\n",
              "      <td>...</td>\n",
              "    </tr>\n",
              "    <tr>\n",
              "      <th>10836</th>\n",
              "      <td>Sya9a Maroc - FR</td>\n",
              "      <td>FAMILY</td>\n",
              "      <td>4.5</td>\n",
              "      <td>38</td>\n",
              "      <td>53000.000000</td>\n",
              "      <td>5,000+</td>\n",
              "      <td>Free</td>\n",
              "      <td>0</td>\n",
              "      <td>Everyone</td>\n",
              "      <td>Education</td>\n",
              "      <td>July 25, 2017</td>\n",
              "      <td>1.48</td>\n",
              "      <td>4.1 and up</td>\n",
              "    </tr>\n",
              "    <tr>\n",
              "      <th>10837</th>\n",
              "      <td>Fr. Mike Schmitz Audio Teachings</td>\n",
              "      <td>FAMILY</td>\n",
              "      <td>5.0</td>\n",
              "      <td>4</td>\n",
              "      <td>3600.000000</td>\n",
              "      <td>100+</td>\n",
              "      <td>Free</td>\n",
              "      <td>0</td>\n",
              "      <td>Everyone</td>\n",
              "      <td>Education</td>\n",
              "      <td>July 6, 2018</td>\n",
              "      <td>1.0</td>\n",
              "      <td>4.1 and up</td>\n",
              "    </tr>\n",
              "    <tr>\n",
              "      <th>10838</th>\n",
              "      <td>Parkinson Exercices FR</td>\n",
              "      <td>MEDICAL</td>\n",
              "      <td>NaN</td>\n",
              "      <td>3</td>\n",
              "      <td>9500.000000</td>\n",
              "      <td>1,000+</td>\n",
              "      <td>Free</td>\n",
              "      <td>0</td>\n",
              "      <td>Everyone</td>\n",
              "      <td>Medical</td>\n",
              "      <td>January 20, 2017</td>\n",
              "      <td>1.0</td>\n",
              "      <td>2.2 and up</td>\n",
              "    </tr>\n",
              "    <tr>\n",
              "      <th>10839</th>\n",
              "      <td>The SCP Foundation DB fr nn5n</td>\n",
              "      <td>BOOKS_AND_REFERENCE</td>\n",
              "      <td>4.5</td>\n",
              "      <td>114</td>\n",
              "      <td>21516.529524</td>\n",
              "      <td>1,000+</td>\n",
              "      <td>Free</td>\n",
              "      <td>0</td>\n",
              "      <td>Mature 17+</td>\n",
              "      <td>Books &amp; Reference</td>\n",
              "      <td>January 19, 2015</td>\n",
              "      <td>Varies with device</td>\n",
              "      <td>Varies with device</td>\n",
              "    </tr>\n",
              "    <tr>\n",
              "      <th>10840</th>\n",
              "      <td>iHoroscope - 2018 Daily Horoscope &amp; Astrology</td>\n",
              "      <td>LIFESTYLE</td>\n",
              "      <td>4.5</td>\n",
              "      <td>398307</td>\n",
              "      <td>19000.000000</td>\n",
              "      <td>10,000,000+</td>\n",
              "      <td>Free</td>\n",
              "      <td>0</td>\n",
              "      <td>Everyone</td>\n",
              "      <td>Lifestyle</td>\n",
              "      <td>July 25, 2018</td>\n",
              "      <td>Varies with device</td>\n",
              "      <td>Varies with device</td>\n",
              "    </tr>\n",
              "  </tbody>\n",
              "</table>\n",
              "<p>10841 rows × 13 columns</p>\n",
              "</div>\n",
              "      <button class=\"colab-df-convert\" onclick=\"convertToInteractive('df-81f2dcb5-91bb-4b2d-9fcd-fdbd42ce37f9')\"\n",
              "              title=\"Convert this dataframe to an interactive table.\"\n",
              "              style=\"display:none;\">\n",
              "        \n",
              "  <svg xmlns=\"http://www.w3.org/2000/svg\" height=\"24px\"viewBox=\"0 0 24 24\"\n",
              "       width=\"24px\">\n",
              "    <path d=\"M0 0h24v24H0V0z\" fill=\"none\"/>\n",
              "    <path d=\"M18.56 5.44l.94 2.06.94-2.06 2.06-.94-2.06-.94-.94-2.06-.94 2.06-2.06.94zm-11 1L8.5 8.5l.94-2.06 2.06-.94-2.06-.94L8.5 2.5l-.94 2.06-2.06.94zm10 10l.94 2.06.94-2.06 2.06-.94-2.06-.94-.94-2.06-.94 2.06-2.06.94z\"/><path d=\"M17.41 7.96l-1.37-1.37c-.4-.4-.92-.59-1.43-.59-.52 0-1.04.2-1.43.59L10.3 9.45l-7.72 7.72c-.78.78-.78 2.05 0 2.83L4 21.41c.39.39.9.59 1.41.59.51 0 1.02-.2 1.41-.59l7.78-7.78 2.81-2.81c.8-.78.8-2.07 0-2.86zM5.41 20L4 18.59l7.72-7.72 1.47 1.35L5.41 20z\"/>\n",
              "  </svg>\n",
              "      </button>\n",
              "      \n",
              "  <style>\n",
              "    .colab-df-container {\n",
              "      display:flex;\n",
              "      flex-wrap:wrap;\n",
              "      gap: 12px;\n",
              "    }\n",
              "\n",
              "    .colab-df-convert {\n",
              "      background-color: #E8F0FE;\n",
              "      border: none;\n",
              "      border-radius: 50%;\n",
              "      cursor: pointer;\n",
              "      display: none;\n",
              "      fill: #1967D2;\n",
              "      height: 32px;\n",
              "      padding: 0 0 0 0;\n",
              "      width: 32px;\n",
              "    }\n",
              "\n",
              "    .colab-df-convert:hover {\n",
              "      background-color: #E2EBFA;\n",
              "      box-shadow: 0px 1px 2px rgba(60, 64, 67, 0.3), 0px 1px 3px 1px rgba(60, 64, 67, 0.15);\n",
              "      fill: #174EA6;\n",
              "    }\n",
              "\n",
              "    [theme=dark] .colab-df-convert {\n",
              "      background-color: #3B4455;\n",
              "      fill: #D2E3FC;\n",
              "    }\n",
              "\n",
              "    [theme=dark] .colab-df-convert:hover {\n",
              "      background-color: #434B5C;\n",
              "      box-shadow: 0px 1px 3px 1px rgba(0, 0, 0, 0.15);\n",
              "      filter: drop-shadow(0px 1px 2px rgba(0, 0, 0, 0.3));\n",
              "      fill: #FFFFFF;\n",
              "    }\n",
              "  </style>\n",
              "\n",
              "      <script>\n",
              "        const buttonEl =\n",
              "          document.querySelector('#df-81f2dcb5-91bb-4b2d-9fcd-fdbd42ce37f9 button.colab-df-convert');\n",
              "        buttonEl.style.display =\n",
              "          google.colab.kernel.accessAllowed ? 'block' : 'none';\n",
              "\n",
              "        async function convertToInteractive(key) {\n",
              "          const element = document.querySelector('#df-81f2dcb5-91bb-4b2d-9fcd-fdbd42ce37f9');\n",
              "          const dataTable =\n",
              "            await google.colab.kernel.invokeFunction('convertToInteractive',\n",
              "                                                     [key], {});\n",
              "          if (!dataTable) return;\n",
              "\n",
              "          const docLinkHtml = 'Like what you see? Visit the ' +\n",
              "            '<a target=\"_blank\" href=https://colab.research.google.com/notebooks/data_table.ipynb>data table notebook</a>'\n",
              "            + ' to learn more about interactive tables.';\n",
              "          element.innerHTML = '';\n",
              "          dataTable['output_type'] = 'display_data';\n",
              "          await google.colab.output.renderOutput(dataTable, element);\n",
              "          const docLink = document.createElement('div');\n",
              "          docLink.innerHTML = docLinkHtml;\n",
              "          element.appendChild(docLink);\n",
              "        }\n",
              "      </script>\n",
              "    </div>\n",
              "  </div>\n",
              "  "
            ]
          },
          "metadata": {},
          "execution_count": 8
        }
      ]
    },
    {
      "cell_type": "code",
      "source": [
        "data.info()"
      ],
      "metadata": {
        "id": "NeTjlfctrB_E",
        "colab": {
          "base_uri": "https://localhost:8080/"
        },
        "outputId": "d7f3b017-7608-4fe1-fd70-9ef6f4913b99"
      },
      "execution_count": 9,
      "outputs": [
        {
          "output_type": "stream",
          "name": "stdout",
          "text": [
            "<class 'pandas.core.frame.DataFrame'>\n",
            "RangeIndex: 10841 entries, 0 to 10840\n",
            "Data columns (total 13 columns):\n",
            " #   Column          Non-Null Count  Dtype  \n",
            "---  ------          --------------  -----  \n",
            " 0   App             10841 non-null  object \n",
            " 1   Category        10841 non-null  object \n",
            " 2   Rating          9367 non-null   float64\n",
            " 3   Reviews         10841 non-null  object \n",
            " 4   Size            10841 non-null  float64\n",
            " 5   Installs        10841 non-null  object \n",
            " 6   Type            10840 non-null  object \n",
            " 7   Price           10841 non-null  object \n",
            " 8   Content Rating  10840 non-null  object \n",
            " 9   Genres          10841 non-null  object \n",
            " 10  Last Updated    10841 non-null  object \n",
            " 11  Current Ver     10833 non-null  object \n",
            " 12  Android Ver     10838 non-null  object \n",
            "dtypes: float64(2), object(11)\n",
            "memory usage: 1.1+ MB\n"
          ]
        }
      ]
    },
    {
      "cell_type": "markdown",
      "source": [
        "## Data clean up – Missing value treatment"
      ],
      "metadata": {
        "id": "huUhIOOLrOG8"
      }
    },
    {
      "cell_type": "markdown",
      "source": [
        "#### Drop records where rating is missing since rating is our target/study variable"
      ],
      "metadata": {
        "id": "8phSaFm8rZGA"
      }
    },
    {
      "cell_type": "code",
      "source": [
        "data.isnull().sum()"
      ],
      "metadata": {
        "id": "cG0LGbTNrG94",
        "colab": {
          "base_uri": "https://localhost:8080/"
        },
        "outputId": "45aa756e-17fe-4b45-b7c0-e17240864f08"
      },
      "execution_count": 10,
      "outputs": [
        {
          "output_type": "execute_result",
          "data": {
            "text/plain": [
              "App                  0\n",
              "Category             0\n",
              "Rating            1474\n",
              "Reviews              0\n",
              "Size                 0\n",
              "Installs             0\n",
              "Type                 1\n",
              "Price                0\n",
              "Content Rating       1\n",
              "Genres               0\n",
              "Last Updated         0\n",
              "Current Ver          8\n",
              "Android Ver          3\n",
              "dtype: int64"
            ]
          },
          "metadata": {},
          "execution_count": 10
        }
      ]
    },
    {
      "cell_type": "code",
      "source": [
        "data.dropna(subset=[\"Rating\"], axis=0, inplace = True)"
      ],
      "metadata": {
        "id": "HCccGn4FreAt"
      },
      "execution_count": 11,
      "outputs": []
    },
    {
      "cell_type": "code",
      "source": [
        "data[\"Rating\"].isnull().sum()"
      ],
      "metadata": {
        "id": "nj8DNuKSriTA",
        "colab": {
          "base_uri": "https://localhost:8080/"
        },
        "outputId": "41655458-6ffb-47c4-a6a0-a3b7f58713c9"
      },
      "execution_count": 12,
      "outputs": [
        {
          "output_type": "execute_result",
          "data": {
            "text/plain": [
              "0"
            ]
          },
          "metadata": {},
          "execution_count": 12
        }
      ]
    },
    {
      "cell_type": "markdown",
      "source": [
        "Check the null values for the Android Ver column"
      ],
      "metadata": {
        "id": "AAxBm1QrrqUq"
      }
    },
    {
      "cell_type": "code",
      "source": [
        "data[\"Android Ver\"].isnull().sum()"
      ],
      "metadata": {
        "id": "xEBybES9rlRu",
        "colab": {
          "base_uri": "https://localhost:8080/"
        },
        "outputId": "3680b615-36dc-4659-bc3e-1a5a698622c5"
      },
      "execution_count": 13,
      "outputs": [
        {
          "output_type": "execute_result",
          "data": {
            "text/plain": [
              "3"
            ]
          },
          "metadata": {},
          "execution_count": 13
        }
      ]
    },
    {
      "cell_type": "markdown",
      "source": [
        "## a) Are all 3 records having the same problem?\n",
        "Ans - Yes, all 3 record have the same problem(NaN)."
      ],
      "metadata": {
        "id": "vxjLK-lrrxhm"
      }
    },
    {
      "cell_type": "code",
      "source": [
        "data.loc[data[\"Android Ver\"].isnull()]"
      ],
      "metadata": {
        "id": "NoPbsO2wr1n2",
        "colab": {
          "base_uri": "https://localhost:8080/",
          "height": 274
        },
        "outputId": "ae597bd0-0db0-411a-d795-882302454f75"
      },
      "execution_count": 14,
      "outputs": [
        {
          "output_type": "execute_result",
          "data": {
            "text/plain": [
              "                                           App         Category  Rating  \\\n",
              "4453                    [substratum] Vacuum: P  PERSONALIZATION     4.4   \n",
              "4490                      Pi Dark [substratum]  PERSONALIZATION     4.5   \n",
              "10472  Life Made WI-Fi Touchscreen Photo Frame              1.9    19.0   \n",
              "\n",
              "      Reviews          Size Installs  Type     Price Content Rating  \\\n",
              "4453      230  11000.000000   1,000+  Paid     $1.49       Everyone   \n",
              "4490      189   2100.000000  10,000+  Free         0       Everyone   \n",
              "10472    3.0M  21516.529524     Free     0  Everyone            NaN   \n",
              "\n",
              "                  Genres    Last Updated Current Ver Android Ver  \n",
              "4453     Personalization   July 20, 2018         4.4         NaN  \n",
              "4490     Personalization  March 27, 2018         1.1         NaN  \n",
              "10472  February 11, 2018          1.0.19  4.0 and up         NaN  "
            ],
            "text/html": [
              "\n",
              "  <div id=\"df-67bc14e5-5984-494d-afce-9f27f0c17222\">\n",
              "    <div class=\"colab-df-container\">\n",
              "      <div>\n",
              "<style scoped>\n",
              "    .dataframe tbody tr th:only-of-type {\n",
              "        vertical-align: middle;\n",
              "    }\n",
              "\n",
              "    .dataframe tbody tr th {\n",
              "        vertical-align: top;\n",
              "    }\n",
              "\n",
              "    .dataframe thead th {\n",
              "        text-align: right;\n",
              "    }\n",
              "</style>\n",
              "<table border=\"1\" class=\"dataframe\">\n",
              "  <thead>\n",
              "    <tr style=\"text-align: right;\">\n",
              "      <th></th>\n",
              "      <th>App</th>\n",
              "      <th>Category</th>\n",
              "      <th>Rating</th>\n",
              "      <th>Reviews</th>\n",
              "      <th>Size</th>\n",
              "      <th>Installs</th>\n",
              "      <th>Type</th>\n",
              "      <th>Price</th>\n",
              "      <th>Content Rating</th>\n",
              "      <th>Genres</th>\n",
              "      <th>Last Updated</th>\n",
              "      <th>Current Ver</th>\n",
              "      <th>Android Ver</th>\n",
              "    </tr>\n",
              "  </thead>\n",
              "  <tbody>\n",
              "    <tr>\n",
              "      <th>4453</th>\n",
              "      <td>[substratum] Vacuum: P</td>\n",
              "      <td>PERSONALIZATION</td>\n",
              "      <td>4.4</td>\n",
              "      <td>230</td>\n",
              "      <td>11000.000000</td>\n",
              "      <td>1,000+</td>\n",
              "      <td>Paid</td>\n",
              "      <td>$1.49</td>\n",
              "      <td>Everyone</td>\n",
              "      <td>Personalization</td>\n",
              "      <td>July 20, 2018</td>\n",
              "      <td>4.4</td>\n",
              "      <td>NaN</td>\n",
              "    </tr>\n",
              "    <tr>\n",
              "      <th>4490</th>\n",
              "      <td>Pi Dark [substratum]</td>\n",
              "      <td>PERSONALIZATION</td>\n",
              "      <td>4.5</td>\n",
              "      <td>189</td>\n",
              "      <td>2100.000000</td>\n",
              "      <td>10,000+</td>\n",
              "      <td>Free</td>\n",
              "      <td>0</td>\n",
              "      <td>Everyone</td>\n",
              "      <td>Personalization</td>\n",
              "      <td>March 27, 2018</td>\n",
              "      <td>1.1</td>\n",
              "      <td>NaN</td>\n",
              "    </tr>\n",
              "    <tr>\n",
              "      <th>10472</th>\n",
              "      <td>Life Made WI-Fi Touchscreen Photo Frame</td>\n",
              "      <td>1.9</td>\n",
              "      <td>19.0</td>\n",
              "      <td>3.0M</td>\n",
              "      <td>21516.529524</td>\n",
              "      <td>Free</td>\n",
              "      <td>0</td>\n",
              "      <td>Everyone</td>\n",
              "      <td>NaN</td>\n",
              "      <td>February 11, 2018</td>\n",
              "      <td>1.0.19</td>\n",
              "      <td>4.0 and up</td>\n",
              "      <td>NaN</td>\n",
              "    </tr>\n",
              "  </tbody>\n",
              "</table>\n",
              "</div>\n",
              "      <button class=\"colab-df-convert\" onclick=\"convertToInteractive('df-67bc14e5-5984-494d-afce-9f27f0c17222')\"\n",
              "              title=\"Convert this dataframe to an interactive table.\"\n",
              "              style=\"display:none;\">\n",
              "        \n",
              "  <svg xmlns=\"http://www.w3.org/2000/svg\" height=\"24px\"viewBox=\"0 0 24 24\"\n",
              "       width=\"24px\">\n",
              "    <path d=\"M0 0h24v24H0V0z\" fill=\"none\"/>\n",
              "    <path d=\"M18.56 5.44l.94 2.06.94-2.06 2.06-.94-2.06-.94-.94-2.06-.94 2.06-2.06.94zm-11 1L8.5 8.5l.94-2.06 2.06-.94-2.06-.94L8.5 2.5l-.94 2.06-2.06.94zm10 10l.94 2.06.94-2.06 2.06-.94-2.06-.94-.94-2.06-.94 2.06-2.06.94z\"/><path d=\"M17.41 7.96l-1.37-1.37c-.4-.4-.92-.59-1.43-.59-.52 0-1.04.2-1.43.59L10.3 9.45l-7.72 7.72c-.78.78-.78 2.05 0 2.83L4 21.41c.39.39.9.59 1.41.59.51 0 1.02-.2 1.41-.59l7.78-7.78 2.81-2.81c.8-.78.8-2.07 0-2.86zM5.41 20L4 18.59l7.72-7.72 1.47 1.35L5.41 20z\"/>\n",
              "  </svg>\n",
              "      </button>\n",
              "      \n",
              "  <style>\n",
              "    .colab-df-container {\n",
              "      display:flex;\n",
              "      flex-wrap:wrap;\n",
              "      gap: 12px;\n",
              "    }\n",
              "\n",
              "    .colab-df-convert {\n",
              "      background-color: #E8F0FE;\n",
              "      border: none;\n",
              "      border-radius: 50%;\n",
              "      cursor: pointer;\n",
              "      display: none;\n",
              "      fill: #1967D2;\n",
              "      height: 32px;\n",
              "      padding: 0 0 0 0;\n",
              "      width: 32px;\n",
              "    }\n",
              "\n",
              "    .colab-df-convert:hover {\n",
              "      background-color: #E2EBFA;\n",
              "      box-shadow: 0px 1px 2px rgba(60, 64, 67, 0.3), 0px 1px 3px 1px rgba(60, 64, 67, 0.15);\n",
              "      fill: #174EA6;\n",
              "    }\n",
              "\n",
              "    [theme=dark] .colab-df-convert {\n",
              "      background-color: #3B4455;\n",
              "      fill: #D2E3FC;\n",
              "    }\n",
              "\n",
              "    [theme=dark] .colab-df-convert:hover {\n",
              "      background-color: #434B5C;\n",
              "      box-shadow: 0px 1px 3px 1px rgba(0, 0, 0, 0.15);\n",
              "      filter: drop-shadow(0px 1px 2px rgba(0, 0, 0, 0.3));\n",
              "      fill: #FFFFFF;\n",
              "    }\n",
              "  </style>\n",
              "\n",
              "      <script>\n",
              "        const buttonEl =\n",
              "          document.querySelector('#df-67bc14e5-5984-494d-afce-9f27f0c17222 button.colab-df-convert');\n",
              "        buttonEl.style.display =\n",
              "          google.colab.kernel.accessAllowed ? 'block' : 'none';\n",
              "\n",
              "        async function convertToInteractive(key) {\n",
              "          const element = document.querySelector('#df-67bc14e5-5984-494d-afce-9f27f0c17222');\n",
              "          const dataTable =\n",
              "            await google.colab.kernel.invokeFunction('convertToInteractive',\n",
              "                                                     [key], {});\n",
              "          if (!dataTable) return;\n",
              "\n",
              "          const docLinkHtml = 'Like what you see? Visit the ' +\n",
              "            '<a target=\"_blank\" href=https://colab.research.google.com/notebooks/data_table.ipynb>data table notebook</a>'\n",
              "            + ' to learn more about interactive tables.';\n",
              "          element.innerHTML = '';\n",
              "          dataTable['output_type'] = 'display_data';\n",
              "          await google.colab.output.renderOutput(dataTable, element);\n",
              "          const docLink = document.createElement('div');\n",
              "          docLink.innerHTML = docLinkHtml;\n",
              "          element.appendChild(docLink);\n",
              "        }\n",
              "      </script>\n",
              "    </div>\n",
              "  </div>\n",
              "  "
            ]
          },
          "metadata": {},
          "execution_count": 14
        }
      ]
    },
    {
      "cell_type": "markdown",
      "source": [
        "## b) Drop the 3rd record i.e. record for “Life Made WIFI …”"
      ],
      "metadata": {
        "id": "M0eYswPOsnzX"
      }
    },
    {
      "cell_type": "code",
      "source": [
        "data.drop([10472], inplace = True)"
      ],
      "metadata": {
        "id": "gIO55lR7sYX4"
      },
      "execution_count": 15,
      "outputs": []
    },
    {
      "cell_type": "code",
      "source": [
        "data.loc[data['Android Ver'].isnull()]"
      ],
      "metadata": {
        "id": "FmXS-q3Astn3",
        "colab": {
          "base_uri": "https://localhost:8080/",
          "height": 208
        },
        "outputId": "395fe26f-9ff9-4781-988e-8ab576e5519c"
      },
      "execution_count": 16,
      "outputs": [
        {
          "output_type": "execute_result",
          "data": {
            "text/plain": [
              "                         App         Category  Rating Reviews     Size  \\\n",
              "4453  [substratum] Vacuum: P  PERSONALIZATION     4.4     230  11000.0   \n",
              "4490    Pi Dark [substratum]  PERSONALIZATION     4.5     189   2100.0   \n",
              "\n",
              "     Installs  Type  Price Content Rating           Genres    Last Updated  \\\n",
              "4453   1,000+  Paid  $1.49       Everyone  Personalization   July 20, 2018   \n",
              "4490  10,000+  Free      0       Everyone  Personalization  March 27, 2018   \n",
              "\n",
              "     Current Ver Android Ver  \n",
              "4453         4.4         NaN  \n",
              "4490         1.1         NaN  "
            ],
            "text/html": [
              "\n",
              "  <div id=\"df-401a33f8-bb7d-448d-99d2-14e14dc4d8a7\">\n",
              "    <div class=\"colab-df-container\">\n",
              "      <div>\n",
              "<style scoped>\n",
              "    .dataframe tbody tr th:only-of-type {\n",
              "        vertical-align: middle;\n",
              "    }\n",
              "\n",
              "    .dataframe tbody tr th {\n",
              "        vertical-align: top;\n",
              "    }\n",
              "\n",
              "    .dataframe thead th {\n",
              "        text-align: right;\n",
              "    }\n",
              "</style>\n",
              "<table border=\"1\" class=\"dataframe\">\n",
              "  <thead>\n",
              "    <tr style=\"text-align: right;\">\n",
              "      <th></th>\n",
              "      <th>App</th>\n",
              "      <th>Category</th>\n",
              "      <th>Rating</th>\n",
              "      <th>Reviews</th>\n",
              "      <th>Size</th>\n",
              "      <th>Installs</th>\n",
              "      <th>Type</th>\n",
              "      <th>Price</th>\n",
              "      <th>Content Rating</th>\n",
              "      <th>Genres</th>\n",
              "      <th>Last Updated</th>\n",
              "      <th>Current Ver</th>\n",
              "      <th>Android Ver</th>\n",
              "    </tr>\n",
              "  </thead>\n",
              "  <tbody>\n",
              "    <tr>\n",
              "      <th>4453</th>\n",
              "      <td>[substratum] Vacuum: P</td>\n",
              "      <td>PERSONALIZATION</td>\n",
              "      <td>4.4</td>\n",
              "      <td>230</td>\n",
              "      <td>11000.0</td>\n",
              "      <td>1,000+</td>\n",
              "      <td>Paid</td>\n",
              "      <td>$1.49</td>\n",
              "      <td>Everyone</td>\n",
              "      <td>Personalization</td>\n",
              "      <td>July 20, 2018</td>\n",
              "      <td>4.4</td>\n",
              "      <td>NaN</td>\n",
              "    </tr>\n",
              "    <tr>\n",
              "      <th>4490</th>\n",
              "      <td>Pi Dark [substratum]</td>\n",
              "      <td>PERSONALIZATION</td>\n",
              "      <td>4.5</td>\n",
              "      <td>189</td>\n",
              "      <td>2100.0</td>\n",
              "      <td>10,000+</td>\n",
              "      <td>Free</td>\n",
              "      <td>0</td>\n",
              "      <td>Everyone</td>\n",
              "      <td>Personalization</td>\n",
              "      <td>March 27, 2018</td>\n",
              "      <td>1.1</td>\n",
              "      <td>NaN</td>\n",
              "    </tr>\n",
              "  </tbody>\n",
              "</table>\n",
              "</div>\n",
              "      <button class=\"colab-df-convert\" onclick=\"convertToInteractive('df-401a33f8-bb7d-448d-99d2-14e14dc4d8a7')\"\n",
              "              title=\"Convert this dataframe to an interactive table.\"\n",
              "              style=\"display:none;\">\n",
              "        \n",
              "  <svg xmlns=\"http://www.w3.org/2000/svg\" height=\"24px\"viewBox=\"0 0 24 24\"\n",
              "       width=\"24px\">\n",
              "    <path d=\"M0 0h24v24H0V0z\" fill=\"none\"/>\n",
              "    <path d=\"M18.56 5.44l.94 2.06.94-2.06 2.06-.94-2.06-.94-.94-2.06-.94 2.06-2.06.94zm-11 1L8.5 8.5l.94-2.06 2.06-.94-2.06-.94L8.5 2.5l-.94 2.06-2.06.94zm10 10l.94 2.06.94-2.06 2.06-.94-2.06-.94-.94-2.06-.94 2.06-2.06.94z\"/><path d=\"M17.41 7.96l-1.37-1.37c-.4-.4-.92-.59-1.43-.59-.52 0-1.04.2-1.43.59L10.3 9.45l-7.72 7.72c-.78.78-.78 2.05 0 2.83L4 21.41c.39.39.9.59 1.41.59.51 0 1.02-.2 1.41-.59l7.78-7.78 2.81-2.81c.8-.78.8-2.07 0-2.86zM5.41 20L4 18.59l7.72-7.72 1.47 1.35L5.41 20z\"/>\n",
              "  </svg>\n",
              "      </button>\n",
              "      \n",
              "  <style>\n",
              "    .colab-df-container {\n",
              "      display:flex;\n",
              "      flex-wrap:wrap;\n",
              "      gap: 12px;\n",
              "    }\n",
              "\n",
              "    .colab-df-convert {\n",
              "      background-color: #E8F0FE;\n",
              "      border: none;\n",
              "      border-radius: 50%;\n",
              "      cursor: pointer;\n",
              "      display: none;\n",
              "      fill: #1967D2;\n",
              "      height: 32px;\n",
              "      padding: 0 0 0 0;\n",
              "      width: 32px;\n",
              "    }\n",
              "\n",
              "    .colab-df-convert:hover {\n",
              "      background-color: #E2EBFA;\n",
              "      box-shadow: 0px 1px 2px rgba(60, 64, 67, 0.3), 0px 1px 3px 1px rgba(60, 64, 67, 0.15);\n",
              "      fill: #174EA6;\n",
              "    }\n",
              "\n",
              "    [theme=dark] .colab-df-convert {\n",
              "      background-color: #3B4455;\n",
              "      fill: #D2E3FC;\n",
              "    }\n",
              "\n",
              "    [theme=dark] .colab-df-convert:hover {\n",
              "      background-color: #434B5C;\n",
              "      box-shadow: 0px 1px 3px 1px rgba(0, 0, 0, 0.15);\n",
              "      filter: drop-shadow(0px 1px 2px rgba(0, 0, 0, 0.3));\n",
              "      fill: #FFFFFF;\n",
              "    }\n",
              "  </style>\n",
              "\n",
              "      <script>\n",
              "        const buttonEl =\n",
              "          document.querySelector('#df-401a33f8-bb7d-448d-99d2-14e14dc4d8a7 button.colab-df-convert');\n",
              "        buttonEl.style.display =\n",
              "          google.colab.kernel.accessAllowed ? 'block' : 'none';\n",
              "\n",
              "        async function convertToInteractive(key) {\n",
              "          const element = document.querySelector('#df-401a33f8-bb7d-448d-99d2-14e14dc4d8a7');\n",
              "          const dataTable =\n",
              "            await google.colab.kernel.invokeFunction('convertToInteractive',\n",
              "                                                     [key], {});\n",
              "          if (!dataTable) return;\n",
              "\n",
              "          const docLinkHtml = 'Like what you see? Visit the ' +\n",
              "            '<a target=\"_blank\" href=https://colab.research.google.com/notebooks/data_table.ipynb>data table notebook</a>'\n",
              "            + ' to learn more about interactive tables.';\n",
              "          element.innerHTML = '';\n",
              "          dataTable['output_type'] = 'display_data';\n",
              "          await google.colab.output.renderOutput(dataTable, element);\n",
              "          const docLink = document.createElement('div');\n",
              "          docLink.innerHTML = docLinkHtml;\n",
              "          element.appendChild(docLink);\n",
              "        }\n",
              "      </script>\n",
              "    </div>\n",
              "  </div>\n",
              "  "
            ]
          },
          "metadata": {},
          "execution_count": 16
        }
      ]
    },
    {
      "cell_type": "markdown",
      "source": [
        "## c) Replace remaining missing values with the mode"
      ],
      "metadata": {
        "id": "Hvjk-C4Cs0t9"
      }
    },
    {
      "cell_type": "code",
      "source": [
        "data[\"Android Ver\"].fillna(data[\"Android Ver\"].mode()[0], inplace=True)"
      ],
      "metadata": {
        "id": "c0XZgtFusvSQ"
      },
      "execution_count": 17,
      "outputs": []
    },
    {
      "cell_type": "code",
      "source": [
        "data.loc[[4453, 4490]]"
      ],
      "metadata": {
        "id": "3K054eWns59b",
        "colab": {
          "base_uri": "https://localhost:8080/",
          "height": 208
        },
        "outputId": "8ca5b7bc-ee16-4a28-dfc7-6accdbc1221d"
      },
      "execution_count": 18,
      "outputs": [
        {
          "output_type": "execute_result",
          "data": {
            "text/plain": [
              "                         App         Category  Rating Reviews     Size  \\\n",
              "4453  [substratum] Vacuum: P  PERSONALIZATION     4.4     230  11000.0   \n",
              "4490    Pi Dark [substratum]  PERSONALIZATION     4.5     189   2100.0   \n",
              "\n",
              "     Installs  Type  Price Content Rating           Genres    Last Updated  \\\n",
              "4453   1,000+  Paid  $1.49       Everyone  Personalization   July 20, 2018   \n",
              "4490  10,000+  Free      0       Everyone  Personalization  March 27, 2018   \n",
              "\n",
              "     Current Ver Android Ver  \n",
              "4453         4.4  4.1 and up  \n",
              "4490         1.1  4.1 and up  "
            ],
            "text/html": [
              "\n",
              "  <div id=\"df-8d784fec-f69a-40ba-850c-467bef2e15af\">\n",
              "    <div class=\"colab-df-container\">\n",
              "      <div>\n",
              "<style scoped>\n",
              "    .dataframe tbody tr th:only-of-type {\n",
              "        vertical-align: middle;\n",
              "    }\n",
              "\n",
              "    .dataframe tbody tr th {\n",
              "        vertical-align: top;\n",
              "    }\n",
              "\n",
              "    .dataframe thead th {\n",
              "        text-align: right;\n",
              "    }\n",
              "</style>\n",
              "<table border=\"1\" class=\"dataframe\">\n",
              "  <thead>\n",
              "    <tr style=\"text-align: right;\">\n",
              "      <th></th>\n",
              "      <th>App</th>\n",
              "      <th>Category</th>\n",
              "      <th>Rating</th>\n",
              "      <th>Reviews</th>\n",
              "      <th>Size</th>\n",
              "      <th>Installs</th>\n",
              "      <th>Type</th>\n",
              "      <th>Price</th>\n",
              "      <th>Content Rating</th>\n",
              "      <th>Genres</th>\n",
              "      <th>Last Updated</th>\n",
              "      <th>Current Ver</th>\n",
              "      <th>Android Ver</th>\n",
              "    </tr>\n",
              "  </thead>\n",
              "  <tbody>\n",
              "    <tr>\n",
              "      <th>4453</th>\n",
              "      <td>[substratum] Vacuum: P</td>\n",
              "      <td>PERSONALIZATION</td>\n",
              "      <td>4.4</td>\n",
              "      <td>230</td>\n",
              "      <td>11000.0</td>\n",
              "      <td>1,000+</td>\n",
              "      <td>Paid</td>\n",
              "      <td>$1.49</td>\n",
              "      <td>Everyone</td>\n",
              "      <td>Personalization</td>\n",
              "      <td>July 20, 2018</td>\n",
              "      <td>4.4</td>\n",
              "      <td>4.1 and up</td>\n",
              "    </tr>\n",
              "    <tr>\n",
              "      <th>4490</th>\n",
              "      <td>Pi Dark [substratum]</td>\n",
              "      <td>PERSONALIZATION</td>\n",
              "      <td>4.5</td>\n",
              "      <td>189</td>\n",
              "      <td>2100.0</td>\n",
              "      <td>10,000+</td>\n",
              "      <td>Free</td>\n",
              "      <td>0</td>\n",
              "      <td>Everyone</td>\n",
              "      <td>Personalization</td>\n",
              "      <td>March 27, 2018</td>\n",
              "      <td>1.1</td>\n",
              "      <td>4.1 and up</td>\n",
              "    </tr>\n",
              "  </tbody>\n",
              "</table>\n",
              "</div>\n",
              "      <button class=\"colab-df-convert\" onclick=\"convertToInteractive('df-8d784fec-f69a-40ba-850c-467bef2e15af')\"\n",
              "              title=\"Convert this dataframe to an interactive table.\"\n",
              "              style=\"display:none;\">\n",
              "        \n",
              "  <svg xmlns=\"http://www.w3.org/2000/svg\" height=\"24px\"viewBox=\"0 0 24 24\"\n",
              "       width=\"24px\">\n",
              "    <path d=\"M0 0h24v24H0V0z\" fill=\"none\"/>\n",
              "    <path d=\"M18.56 5.44l.94 2.06.94-2.06 2.06-.94-2.06-.94-.94-2.06-.94 2.06-2.06.94zm-11 1L8.5 8.5l.94-2.06 2.06-.94-2.06-.94L8.5 2.5l-.94 2.06-2.06.94zm10 10l.94 2.06.94-2.06 2.06-.94-2.06-.94-.94-2.06-.94 2.06-2.06.94z\"/><path d=\"M17.41 7.96l-1.37-1.37c-.4-.4-.92-.59-1.43-.59-.52 0-1.04.2-1.43.59L10.3 9.45l-7.72 7.72c-.78.78-.78 2.05 0 2.83L4 21.41c.39.39.9.59 1.41.59.51 0 1.02-.2 1.41-.59l7.78-7.78 2.81-2.81c.8-.78.8-2.07 0-2.86zM5.41 20L4 18.59l7.72-7.72 1.47 1.35L5.41 20z\"/>\n",
              "  </svg>\n",
              "      </button>\n",
              "      \n",
              "  <style>\n",
              "    .colab-df-container {\n",
              "      display:flex;\n",
              "      flex-wrap:wrap;\n",
              "      gap: 12px;\n",
              "    }\n",
              "\n",
              "    .colab-df-convert {\n",
              "      background-color: #E8F0FE;\n",
              "      border: none;\n",
              "      border-radius: 50%;\n",
              "      cursor: pointer;\n",
              "      display: none;\n",
              "      fill: #1967D2;\n",
              "      height: 32px;\n",
              "      padding: 0 0 0 0;\n",
              "      width: 32px;\n",
              "    }\n",
              "\n",
              "    .colab-df-convert:hover {\n",
              "      background-color: #E2EBFA;\n",
              "      box-shadow: 0px 1px 2px rgba(60, 64, 67, 0.3), 0px 1px 3px 1px rgba(60, 64, 67, 0.15);\n",
              "      fill: #174EA6;\n",
              "    }\n",
              "\n",
              "    [theme=dark] .colab-df-convert {\n",
              "      background-color: #3B4455;\n",
              "      fill: #D2E3FC;\n",
              "    }\n",
              "\n",
              "    [theme=dark] .colab-df-convert:hover {\n",
              "      background-color: #434B5C;\n",
              "      box-shadow: 0px 1px 3px 1px rgba(0, 0, 0, 0.15);\n",
              "      filter: drop-shadow(0px 1px 2px rgba(0, 0, 0, 0.3));\n",
              "      fill: #FFFFFF;\n",
              "    }\n",
              "  </style>\n",
              "\n",
              "      <script>\n",
              "        const buttonEl =\n",
              "          document.querySelector('#df-8d784fec-f69a-40ba-850c-467bef2e15af button.colab-df-convert');\n",
              "        buttonEl.style.display =\n",
              "          google.colab.kernel.accessAllowed ? 'block' : 'none';\n",
              "\n",
              "        async function convertToInteractive(key) {\n",
              "          const element = document.querySelector('#df-8d784fec-f69a-40ba-850c-467bef2e15af');\n",
              "          const dataTable =\n",
              "            await google.colab.kernel.invokeFunction('convertToInteractive',\n",
              "                                                     [key], {});\n",
              "          if (!dataTable) return;\n",
              "\n",
              "          const docLinkHtml = 'Like what you see? Visit the ' +\n",
              "            '<a target=\"_blank\" href=https://colab.research.google.com/notebooks/data_table.ipynb>data table notebook</a>'\n",
              "            + ' to learn more about interactive tables.';\n",
              "          element.innerHTML = '';\n",
              "          dataTable['output_type'] = 'display_data';\n",
              "          await google.colab.output.renderOutput(dataTable, element);\n",
              "          const docLink = document.createElement('div');\n",
              "          docLink.innerHTML = docLinkHtml;\n",
              "          element.appendChild(docLink);\n",
              "        }\n",
              "      </script>\n",
              "    </div>\n",
              "  </div>\n",
              "  "
            ]
          },
          "metadata": {},
          "execution_count": 18
        }
      ]
    },
    {
      "cell_type": "markdown",
      "source": [
        "## Current ver – replace with most common value"
      ],
      "metadata": {
        "id": "exJz5db2tFlo"
      }
    },
    {
      "cell_type": "code",
      "source": [
        "data.loc[data[\"Current Ver\"].isnull()]"
      ],
      "metadata": {
        "id": "3aqI1Az5s8GS",
        "colab": {
          "base_uri": "https://localhost:8080/",
          "height": 271
        },
        "outputId": "80261139-6a0c-409f-a867-2abb6a6cc59c"
      },
      "execution_count": 19,
      "outputs": [
        {
          "output_type": "execute_result",
          "data": {
            "text/plain": [
              "                                  App            Category  Rating Reviews  \\\n",
              "15    Learn To Draw Kawaii Characters      ART_AND_DESIGN     3.2      55   \n",
              "1553             Market Update Helper  LIBRARIES_AND_DEMO     4.1   20145   \n",
              "6322           Virtual DJ Sound Mixer               TOOLS     4.2    4010   \n",
              "7333                      Dots puzzle              FAMILY     4.0     179   \n",
              "\n",
              "         Size    Installs  Type  Price Content Rating            Genres  \\\n",
              "15     2700.0      5,000+  Free      0       Everyone      Art & Design   \n",
              "1553     11.0  1,000,000+  Free      0       Everyone  Libraries & Demo   \n",
              "6322   8700.0    500,000+  Free      0       Everyone             Tools   \n",
              "7333  14000.0     50,000+  Paid  $0.99       Everyone            Puzzle   \n",
              "\n",
              "           Last Updated Current Ver Android Ver  \n",
              "15         June 6, 2018         NaN  4.2 and up  \n",
              "1553  February 12, 2013         NaN  1.5 and up  \n",
              "6322       May 10, 2017         NaN  4.0 and up  \n",
              "7333     April 18, 2018         NaN  4.0 and up  "
            ],
            "text/html": [
              "\n",
              "  <div id=\"df-edb0a117-6a72-4ea6-a7e7-d0621fe51e64\">\n",
              "    <div class=\"colab-df-container\">\n",
              "      <div>\n",
              "<style scoped>\n",
              "    .dataframe tbody tr th:only-of-type {\n",
              "        vertical-align: middle;\n",
              "    }\n",
              "\n",
              "    .dataframe tbody tr th {\n",
              "        vertical-align: top;\n",
              "    }\n",
              "\n",
              "    .dataframe thead th {\n",
              "        text-align: right;\n",
              "    }\n",
              "</style>\n",
              "<table border=\"1\" class=\"dataframe\">\n",
              "  <thead>\n",
              "    <tr style=\"text-align: right;\">\n",
              "      <th></th>\n",
              "      <th>App</th>\n",
              "      <th>Category</th>\n",
              "      <th>Rating</th>\n",
              "      <th>Reviews</th>\n",
              "      <th>Size</th>\n",
              "      <th>Installs</th>\n",
              "      <th>Type</th>\n",
              "      <th>Price</th>\n",
              "      <th>Content Rating</th>\n",
              "      <th>Genres</th>\n",
              "      <th>Last Updated</th>\n",
              "      <th>Current Ver</th>\n",
              "      <th>Android Ver</th>\n",
              "    </tr>\n",
              "  </thead>\n",
              "  <tbody>\n",
              "    <tr>\n",
              "      <th>15</th>\n",
              "      <td>Learn To Draw Kawaii Characters</td>\n",
              "      <td>ART_AND_DESIGN</td>\n",
              "      <td>3.2</td>\n",
              "      <td>55</td>\n",
              "      <td>2700.0</td>\n",
              "      <td>5,000+</td>\n",
              "      <td>Free</td>\n",
              "      <td>0</td>\n",
              "      <td>Everyone</td>\n",
              "      <td>Art &amp; Design</td>\n",
              "      <td>June 6, 2018</td>\n",
              "      <td>NaN</td>\n",
              "      <td>4.2 and up</td>\n",
              "    </tr>\n",
              "    <tr>\n",
              "      <th>1553</th>\n",
              "      <td>Market Update Helper</td>\n",
              "      <td>LIBRARIES_AND_DEMO</td>\n",
              "      <td>4.1</td>\n",
              "      <td>20145</td>\n",
              "      <td>11.0</td>\n",
              "      <td>1,000,000+</td>\n",
              "      <td>Free</td>\n",
              "      <td>0</td>\n",
              "      <td>Everyone</td>\n",
              "      <td>Libraries &amp; Demo</td>\n",
              "      <td>February 12, 2013</td>\n",
              "      <td>NaN</td>\n",
              "      <td>1.5 and up</td>\n",
              "    </tr>\n",
              "    <tr>\n",
              "      <th>6322</th>\n",
              "      <td>Virtual DJ Sound Mixer</td>\n",
              "      <td>TOOLS</td>\n",
              "      <td>4.2</td>\n",
              "      <td>4010</td>\n",
              "      <td>8700.0</td>\n",
              "      <td>500,000+</td>\n",
              "      <td>Free</td>\n",
              "      <td>0</td>\n",
              "      <td>Everyone</td>\n",
              "      <td>Tools</td>\n",
              "      <td>May 10, 2017</td>\n",
              "      <td>NaN</td>\n",
              "      <td>4.0 and up</td>\n",
              "    </tr>\n",
              "    <tr>\n",
              "      <th>7333</th>\n",
              "      <td>Dots puzzle</td>\n",
              "      <td>FAMILY</td>\n",
              "      <td>4.0</td>\n",
              "      <td>179</td>\n",
              "      <td>14000.0</td>\n",
              "      <td>50,000+</td>\n",
              "      <td>Paid</td>\n",
              "      <td>$0.99</td>\n",
              "      <td>Everyone</td>\n",
              "      <td>Puzzle</td>\n",
              "      <td>April 18, 2018</td>\n",
              "      <td>NaN</td>\n",
              "      <td>4.0 and up</td>\n",
              "    </tr>\n",
              "  </tbody>\n",
              "</table>\n",
              "</div>\n",
              "      <button class=\"colab-df-convert\" onclick=\"convertToInteractive('df-edb0a117-6a72-4ea6-a7e7-d0621fe51e64')\"\n",
              "              title=\"Convert this dataframe to an interactive table.\"\n",
              "              style=\"display:none;\">\n",
              "        \n",
              "  <svg xmlns=\"http://www.w3.org/2000/svg\" height=\"24px\"viewBox=\"0 0 24 24\"\n",
              "       width=\"24px\">\n",
              "    <path d=\"M0 0h24v24H0V0z\" fill=\"none\"/>\n",
              "    <path d=\"M18.56 5.44l.94 2.06.94-2.06 2.06-.94-2.06-.94-.94-2.06-.94 2.06-2.06.94zm-11 1L8.5 8.5l.94-2.06 2.06-.94-2.06-.94L8.5 2.5l-.94 2.06-2.06.94zm10 10l.94 2.06.94-2.06 2.06-.94-2.06-.94-.94-2.06-.94 2.06-2.06.94z\"/><path d=\"M17.41 7.96l-1.37-1.37c-.4-.4-.92-.59-1.43-.59-.52 0-1.04.2-1.43.59L10.3 9.45l-7.72 7.72c-.78.78-.78 2.05 0 2.83L4 21.41c.39.39.9.59 1.41.59.51 0 1.02-.2 1.41-.59l7.78-7.78 2.81-2.81c.8-.78.8-2.07 0-2.86zM5.41 20L4 18.59l7.72-7.72 1.47 1.35L5.41 20z\"/>\n",
              "  </svg>\n",
              "      </button>\n",
              "      \n",
              "  <style>\n",
              "    .colab-df-container {\n",
              "      display:flex;\n",
              "      flex-wrap:wrap;\n",
              "      gap: 12px;\n",
              "    }\n",
              "\n",
              "    .colab-df-convert {\n",
              "      background-color: #E8F0FE;\n",
              "      border: none;\n",
              "      border-radius: 50%;\n",
              "      cursor: pointer;\n",
              "      display: none;\n",
              "      fill: #1967D2;\n",
              "      height: 32px;\n",
              "      padding: 0 0 0 0;\n",
              "      width: 32px;\n",
              "    }\n",
              "\n",
              "    .colab-df-convert:hover {\n",
              "      background-color: #E2EBFA;\n",
              "      box-shadow: 0px 1px 2px rgba(60, 64, 67, 0.3), 0px 1px 3px 1px rgba(60, 64, 67, 0.15);\n",
              "      fill: #174EA6;\n",
              "    }\n",
              "\n",
              "    [theme=dark] .colab-df-convert {\n",
              "      background-color: #3B4455;\n",
              "      fill: #D2E3FC;\n",
              "    }\n",
              "\n",
              "    [theme=dark] .colab-df-convert:hover {\n",
              "      background-color: #434B5C;\n",
              "      box-shadow: 0px 1px 3px 1px rgba(0, 0, 0, 0.15);\n",
              "      filter: drop-shadow(0px 1px 2px rgba(0, 0, 0, 0.3));\n",
              "      fill: #FFFFFF;\n",
              "    }\n",
              "  </style>\n",
              "\n",
              "      <script>\n",
              "        const buttonEl =\n",
              "          document.querySelector('#df-edb0a117-6a72-4ea6-a7e7-d0621fe51e64 button.colab-df-convert');\n",
              "        buttonEl.style.display =\n",
              "          google.colab.kernel.accessAllowed ? 'block' : 'none';\n",
              "\n",
              "        async function convertToInteractive(key) {\n",
              "          const element = document.querySelector('#df-edb0a117-6a72-4ea6-a7e7-d0621fe51e64');\n",
              "          const dataTable =\n",
              "            await google.colab.kernel.invokeFunction('convertToInteractive',\n",
              "                                                     [key], {});\n",
              "          if (!dataTable) return;\n",
              "\n",
              "          const docLinkHtml = 'Like what you see? Visit the ' +\n",
              "            '<a target=\"_blank\" href=https://colab.research.google.com/notebooks/data_table.ipynb>data table notebook</a>'\n",
              "            + ' to learn more about interactive tables.';\n",
              "          element.innerHTML = '';\n",
              "          dataTable['output_type'] = 'display_data';\n",
              "          await google.colab.output.renderOutput(dataTable, element);\n",
              "          const docLink = document.createElement('div');\n",
              "          docLink.innerHTML = docLinkHtml;\n",
              "          element.appendChild(docLink);\n",
              "        }\n",
              "      </script>\n",
              "    </div>\n",
              "  </div>\n",
              "  "
            ]
          },
          "metadata": {},
          "execution_count": 19
        }
      ]
    },
    {
      "cell_type": "code",
      "source": [
        "data[\"Current Ver\"].fillna(data[\"Current Ver\"].mode()[0], inplace=True)"
      ],
      "metadata": {
        "id": "P_qz4OuatKqT"
      },
      "execution_count": 20,
      "outputs": []
    },
    {
      "cell_type": "code",
      "source": [
        "data[\"Current Ver\"].isnull().sum()"
      ],
      "metadata": {
        "id": "GFwGDk6MtNKe",
        "colab": {
          "base_uri": "https://localhost:8080/"
        },
        "outputId": "e0101de2-26e1-44f8-c82c-cc06678a2fc8"
      },
      "execution_count": 21,
      "outputs": [
        {
          "output_type": "execute_result",
          "data": {
            "text/plain": [
              "0"
            ]
          },
          "metadata": {},
          "execution_count": 21
        }
      ]
    },
    {
      "cell_type": "markdown",
      "source": [
        "# Data clean up – correcting the data types"
      ],
      "metadata": {
        "id": "naztLXbqtUE4"
      }
    },
    {
      "cell_type": "markdown",
      "source": [
        "### a) Which all variables need to be brought to numeric types?\n",
        "Ans - There are three variable that is in object data type but they need to be brought to numeric data type.\n",
        "1. Price\n",
        "2. Installs\n",
        "3. Reviews"
      ],
      "metadata": {
        "id": "CMjcVE5Oumnp"
      }
    },
    {
      "cell_type": "markdown",
      "source": [
        "### b) Price variable – remove $ sign and convert to float"
      ],
      "metadata": {
        "id": "WCrvFKWau9iN"
      }
    },
    {
      "cell_type": "code",
      "source": [
        "price = []\n",
        "for i in data['Price']:\n",
        "    if i[0]=='$':\n",
        "        price.append(i[1:])\n",
        "    else:\n",
        "        price.append(i)  "
      ],
      "metadata": {
        "id": "6MBQzfsItOyZ"
      },
      "execution_count": 22,
      "outputs": []
    },
    {
      "cell_type": "code",
      "source": [
        "data.drop(labels=data[data['Price']=='Everyone'].index, inplace = True)\n",
        "data['Price']= price\n",
        "data['Price']= data['Price'].astype('float')"
      ],
      "metadata": {
        "id": "CC864MhLu76H"
      },
      "execution_count": 23,
      "outputs": []
    },
    {
      "cell_type": "code",
      "source": [
        "data.head(2181)"
      ],
      "metadata": {
        "id": "AklZVg6-vFky",
        "colab": {
          "base_uri": "https://localhost:8080/",
          "height": 711
        },
        "outputId": "6b989527-0fc2-4a4d-e113-d0066f772e8e"
      },
      "execution_count": 24,
      "outputs": [
        {
          "output_type": "execute_result",
          "data": {
            "text/plain": [
              "                                                    App        Category  \\\n",
              "0        Photo Editor & Candy Camera & Grid & ScrapBook  ART_AND_DESIGN   \n",
              "1                                   Coloring book moana  ART_AND_DESIGN   \n",
              "2     U Launcher Lite – FREE Live Cool Themes, Hide ...  ART_AND_DESIGN   \n",
              "3                                 Sketch - Draw & Paint  ART_AND_DESIGN   \n",
              "4                 Pixel Draw - Number Art Coloring Book  ART_AND_DESIGN   \n",
              "...                                                 ...             ...   \n",
              "2259                            Diabetes & Diet Tracker         MEDICAL   \n",
              "2260                                           VeinSeek         MEDICAL   \n",
              "2261                                        Block Buddy         MEDICAL   \n",
              "2262           Super Hearing Secret Voices Recorder PRO         MEDICAL   \n",
              "2263                        EMT Study - NREMT Test Prep         MEDICAL   \n",
              "\n",
              "      Rating Reviews          Size     Installs  Type  Price Content Rating  \\\n",
              "0        4.1     159  19000.000000      10,000+  Free   0.00       Everyone   \n",
              "1        3.9     967  14000.000000     500,000+  Free   0.00       Everyone   \n",
              "2        4.7   87510   8700.000000   5,000,000+  Free   0.00       Everyone   \n",
              "3        4.5  215644  25000.000000  50,000,000+  Free   0.00           Teen   \n",
              "4        4.3     967   2800.000000     100,000+  Free   0.00       Everyone   \n",
              "...      ...     ...           ...          ...   ...    ...            ...   \n",
              "2259     4.6     395  19000.000000       1,000+  Paid   9.99       Everyone   \n",
              "2260     2.5      79  21516.529524       1,000+  Paid   3.99       Everyone   \n",
              "2261     4.0      15   5000.000000       1,000+  Paid  14.99       Everyone   \n",
              "2262     5.0       3  23000.000000         100+  Paid   2.99       Everyone   \n",
              "2263     4.3      35    862.000000       5,000+  Paid   3.99       Everyone   \n",
              "\n",
              "                         Genres      Last Updated         Current Ver  \\\n",
              "0                  Art & Design   January 7, 2018               1.0.0   \n",
              "1     Art & Design;Pretend Play  January 15, 2018               2.0.0   \n",
              "2                  Art & Design    August 1, 2018               1.2.4   \n",
              "3                  Art & Design      June 8, 2018  Varies with device   \n",
              "4       Art & Design;Creativity     June 20, 2018                 1.1   \n",
              "...                         ...               ...                 ...   \n",
              "2259                    Medical     July 16, 2018               6.5.1   \n",
              "2260                    Medical  December 6, 2017  Varies with device   \n",
              "2261                    Medical    August 1, 2018              7.6.14   \n",
              "2262                    Medical    April 20, 2018                 1.0   \n",
              "2263                    Medical  December 3, 2014                 1.1   \n",
              "\n",
              "             Android Ver  \n",
              "0           4.0.3 and up  \n",
              "1           4.0.3 and up  \n",
              "2           4.0.3 and up  \n",
              "3             4.2 and up  \n",
              "4             4.4 and up  \n",
              "...                  ...  \n",
              "2259          5.0 and up  \n",
              "2260  Varies with device  \n",
              "2261          4.0 and up  \n",
              "2262          4.1 and up  \n",
              "2263        4.0.3 and up  \n",
              "\n",
              "[2181 rows x 13 columns]"
            ],
            "text/html": [
              "\n",
              "  <div id=\"df-dd8cf704-518d-49cb-b555-dd7a4355e7f6\">\n",
              "    <div class=\"colab-df-container\">\n",
              "      <div>\n",
              "<style scoped>\n",
              "    .dataframe tbody tr th:only-of-type {\n",
              "        vertical-align: middle;\n",
              "    }\n",
              "\n",
              "    .dataframe tbody tr th {\n",
              "        vertical-align: top;\n",
              "    }\n",
              "\n",
              "    .dataframe thead th {\n",
              "        text-align: right;\n",
              "    }\n",
              "</style>\n",
              "<table border=\"1\" class=\"dataframe\">\n",
              "  <thead>\n",
              "    <tr style=\"text-align: right;\">\n",
              "      <th></th>\n",
              "      <th>App</th>\n",
              "      <th>Category</th>\n",
              "      <th>Rating</th>\n",
              "      <th>Reviews</th>\n",
              "      <th>Size</th>\n",
              "      <th>Installs</th>\n",
              "      <th>Type</th>\n",
              "      <th>Price</th>\n",
              "      <th>Content Rating</th>\n",
              "      <th>Genres</th>\n",
              "      <th>Last Updated</th>\n",
              "      <th>Current Ver</th>\n",
              "      <th>Android Ver</th>\n",
              "    </tr>\n",
              "  </thead>\n",
              "  <tbody>\n",
              "    <tr>\n",
              "      <th>0</th>\n",
              "      <td>Photo Editor &amp; Candy Camera &amp; Grid &amp; ScrapBook</td>\n",
              "      <td>ART_AND_DESIGN</td>\n",
              "      <td>4.1</td>\n",
              "      <td>159</td>\n",
              "      <td>19000.000000</td>\n",
              "      <td>10,000+</td>\n",
              "      <td>Free</td>\n",
              "      <td>0.00</td>\n",
              "      <td>Everyone</td>\n",
              "      <td>Art &amp; Design</td>\n",
              "      <td>January 7, 2018</td>\n",
              "      <td>1.0.0</td>\n",
              "      <td>4.0.3 and up</td>\n",
              "    </tr>\n",
              "    <tr>\n",
              "      <th>1</th>\n",
              "      <td>Coloring book moana</td>\n",
              "      <td>ART_AND_DESIGN</td>\n",
              "      <td>3.9</td>\n",
              "      <td>967</td>\n",
              "      <td>14000.000000</td>\n",
              "      <td>500,000+</td>\n",
              "      <td>Free</td>\n",
              "      <td>0.00</td>\n",
              "      <td>Everyone</td>\n",
              "      <td>Art &amp; Design;Pretend Play</td>\n",
              "      <td>January 15, 2018</td>\n",
              "      <td>2.0.0</td>\n",
              "      <td>4.0.3 and up</td>\n",
              "    </tr>\n",
              "    <tr>\n",
              "      <th>2</th>\n",
              "      <td>U Launcher Lite – FREE Live Cool Themes, Hide ...</td>\n",
              "      <td>ART_AND_DESIGN</td>\n",
              "      <td>4.7</td>\n",
              "      <td>87510</td>\n",
              "      <td>8700.000000</td>\n",
              "      <td>5,000,000+</td>\n",
              "      <td>Free</td>\n",
              "      <td>0.00</td>\n",
              "      <td>Everyone</td>\n",
              "      <td>Art &amp; Design</td>\n",
              "      <td>August 1, 2018</td>\n",
              "      <td>1.2.4</td>\n",
              "      <td>4.0.3 and up</td>\n",
              "    </tr>\n",
              "    <tr>\n",
              "      <th>3</th>\n",
              "      <td>Sketch - Draw &amp; Paint</td>\n",
              "      <td>ART_AND_DESIGN</td>\n",
              "      <td>4.5</td>\n",
              "      <td>215644</td>\n",
              "      <td>25000.000000</td>\n",
              "      <td>50,000,000+</td>\n",
              "      <td>Free</td>\n",
              "      <td>0.00</td>\n",
              "      <td>Teen</td>\n",
              "      <td>Art &amp; Design</td>\n",
              "      <td>June 8, 2018</td>\n",
              "      <td>Varies with device</td>\n",
              "      <td>4.2 and up</td>\n",
              "    </tr>\n",
              "    <tr>\n",
              "      <th>4</th>\n",
              "      <td>Pixel Draw - Number Art Coloring Book</td>\n",
              "      <td>ART_AND_DESIGN</td>\n",
              "      <td>4.3</td>\n",
              "      <td>967</td>\n",
              "      <td>2800.000000</td>\n",
              "      <td>100,000+</td>\n",
              "      <td>Free</td>\n",
              "      <td>0.00</td>\n",
              "      <td>Everyone</td>\n",
              "      <td>Art &amp; Design;Creativity</td>\n",
              "      <td>June 20, 2018</td>\n",
              "      <td>1.1</td>\n",
              "      <td>4.4 and up</td>\n",
              "    </tr>\n",
              "    <tr>\n",
              "      <th>...</th>\n",
              "      <td>...</td>\n",
              "      <td>...</td>\n",
              "      <td>...</td>\n",
              "      <td>...</td>\n",
              "      <td>...</td>\n",
              "      <td>...</td>\n",
              "      <td>...</td>\n",
              "      <td>...</td>\n",
              "      <td>...</td>\n",
              "      <td>...</td>\n",
              "      <td>...</td>\n",
              "      <td>...</td>\n",
              "      <td>...</td>\n",
              "    </tr>\n",
              "    <tr>\n",
              "      <th>2259</th>\n",
              "      <td>Diabetes &amp; Diet Tracker</td>\n",
              "      <td>MEDICAL</td>\n",
              "      <td>4.6</td>\n",
              "      <td>395</td>\n",
              "      <td>19000.000000</td>\n",
              "      <td>1,000+</td>\n",
              "      <td>Paid</td>\n",
              "      <td>9.99</td>\n",
              "      <td>Everyone</td>\n",
              "      <td>Medical</td>\n",
              "      <td>July 16, 2018</td>\n",
              "      <td>6.5.1</td>\n",
              "      <td>5.0 and up</td>\n",
              "    </tr>\n",
              "    <tr>\n",
              "      <th>2260</th>\n",
              "      <td>VeinSeek</td>\n",
              "      <td>MEDICAL</td>\n",
              "      <td>2.5</td>\n",
              "      <td>79</td>\n",
              "      <td>21516.529524</td>\n",
              "      <td>1,000+</td>\n",
              "      <td>Paid</td>\n",
              "      <td>3.99</td>\n",
              "      <td>Everyone</td>\n",
              "      <td>Medical</td>\n",
              "      <td>December 6, 2017</td>\n",
              "      <td>Varies with device</td>\n",
              "      <td>Varies with device</td>\n",
              "    </tr>\n",
              "    <tr>\n",
              "      <th>2261</th>\n",
              "      <td>Block Buddy</td>\n",
              "      <td>MEDICAL</td>\n",
              "      <td>4.0</td>\n",
              "      <td>15</td>\n",
              "      <td>5000.000000</td>\n",
              "      <td>1,000+</td>\n",
              "      <td>Paid</td>\n",
              "      <td>14.99</td>\n",
              "      <td>Everyone</td>\n",
              "      <td>Medical</td>\n",
              "      <td>August 1, 2018</td>\n",
              "      <td>7.6.14</td>\n",
              "      <td>4.0 and up</td>\n",
              "    </tr>\n",
              "    <tr>\n",
              "      <th>2262</th>\n",
              "      <td>Super Hearing Secret Voices Recorder PRO</td>\n",
              "      <td>MEDICAL</td>\n",
              "      <td>5.0</td>\n",
              "      <td>3</td>\n",
              "      <td>23000.000000</td>\n",
              "      <td>100+</td>\n",
              "      <td>Paid</td>\n",
              "      <td>2.99</td>\n",
              "      <td>Everyone</td>\n",
              "      <td>Medical</td>\n",
              "      <td>April 20, 2018</td>\n",
              "      <td>1.0</td>\n",
              "      <td>4.1 and up</td>\n",
              "    </tr>\n",
              "    <tr>\n",
              "      <th>2263</th>\n",
              "      <td>EMT Study - NREMT Test Prep</td>\n",
              "      <td>MEDICAL</td>\n",
              "      <td>4.3</td>\n",
              "      <td>35</td>\n",
              "      <td>862.000000</td>\n",
              "      <td>5,000+</td>\n",
              "      <td>Paid</td>\n",
              "      <td>3.99</td>\n",
              "      <td>Everyone</td>\n",
              "      <td>Medical</td>\n",
              "      <td>December 3, 2014</td>\n",
              "      <td>1.1</td>\n",
              "      <td>4.0.3 and up</td>\n",
              "    </tr>\n",
              "  </tbody>\n",
              "</table>\n",
              "<p>2181 rows × 13 columns</p>\n",
              "</div>\n",
              "      <button class=\"colab-df-convert\" onclick=\"convertToInteractive('df-dd8cf704-518d-49cb-b555-dd7a4355e7f6')\"\n",
              "              title=\"Convert this dataframe to an interactive table.\"\n",
              "              style=\"display:none;\">\n",
              "        \n",
              "  <svg xmlns=\"http://www.w3.org/2000/svg\" height=\"24px\"viewBox=\"0 0 24 24\"\n",
              "       width=\"24px\">\n",
              "    <path d=\"M0 0h24v24H0V0z\" fill=\"none\"/>\n",
              "    <path d=\"M18.56 5.44l.94 2.06.94-2.06 2.06-.94-2.06-.94-.94-2.06-.94 2.06-2.06.94zm-11 1L8.5 8.5l.94-2.06 2.06-.94-2.06-.94L8.5 2.5l-.94 2.06-2.06.94zm10 10l.94 2.06.94-2.06 2.06-.94-2.06-.94-.94-2.06-.94 2.06-2.06.94z\"/><path d=\"M17.41 7.96l-1.37-1.37c-.4-.4-.92-.59-1.43-.59-.52 0-1.04.2-1.43.59L10.3 9.45l-7.72 7.72c-.78.78-.78 2.05 0 2.83L4 21.41c.39.39.9.59 1.41.59.51 0 1.02-.2 1.41-.59l7.78-7.78 2.81-2.81c.8-.78.8-2.07 0-2.86zM5.41 20L4 18.59l7.72-7.72 1.47 1.35L5.41 20z\"/>\n",
              "  </svg>\n",
              "      </button>\n",
              "      \n",
              "  <style>\n",
              "    .colab-df-container {\n",
              "      display:flex;\n",
              "      flex-wrap:wrap;\n",
              "      gap: 12px;\n",
              "    }\n",
              "\n",
              "    .colab-df-convert {\n",
              "      background-color: #E8F0FE;\n",
              "      border: none;\n",
              "      border-radius: 50%;\n",
              "      cursor: pointer;\n",
              "      display: none;\n",
              "      fill: #1967D2;\n",
              "      height: 32px;\n",
              "      padding: 0 0 0 0;\n",
              "      width: 32px;\n",
              "    }\n",
              "\n",
              "    .colab-df-convert:hover {\n",
              "      background-color: #E2EBFA;\n",
              "      box-shadow: 0px 1px 2px rgba(60, 64, 67, 0.3), 0px 1px 3px 1px rgba(60, 64, 67, 0.15);\n",
              "      fill: #174EA6;\n",
              "    }\n",
              "\n",
              "    [theme=dark] .colab-df-convert {\n",
              "      background-color: #3B4455;\n",
              "      fill: #D2E3FC;\n",
              "    }\n",
              "\n",
              "    [theme=dark] .colab-df-convert:hover {\n",
              "      background-color: #434B5C;\n",
              "      box-shadow: 0px 1px 3px 1px rgba(0, 0, 0, 0.15);\n",
              "      filter: drop-shadow(0px 1px 2px rgba(0, 0, 0, 0.3));\n",
              "      fill: #FFFFFF;\n",
              "    }\n",
              "  </style>\n",
              "\n",
              "      <script>\n",
              "        const buttonEl =\n",
              "          document.querySelector('#df-dd8cf704-518d-49cb-b555-dd7a4355e7f6 button.colab-df-convert');\n",
              "        buttonEl.style.display =\n",
              "          google.colab.kernel.accessAllowed ? 'block' : 'none';\n",
              "\n",
              "        async function convertToInteractive(key) {\n",
              "          const element = document.querySelector('#df-dd8cf704-518d-49cb-b555-dd7a4355e7f6');\n",
              "          const dataTable =\n",
              "            await google.colab.kernel.invokeFunction('convertToInteractive',\n",
              "                                                     [key], {});\n",
              "          if (!dataTable) return;\n",
              "\n",
              "          const docLinkHtml = 'Like what you see? Visit the ' +\n",
              "            '<a target=\"_blank\" href=https://colab.research.google.com/notebooks/data_table.ipynb>data table notebook</a>'\n",
              "            + ' to learn more about interactive tables.';\n",
              "          element.innerHTML = '';\n",
              "          dataTable['output_type'] = 'display_data';\n",
              "          await google.colab.output.renderOutput(dataTable, element);\n",
              "          const docLink = document.createElement('div');\n",
              "          docLink.innerHTML = docLinkHtml;\n",
              "          element.appendChild(docLink);\n",
              "        }\n",
              "      </script>\n",
              "    </div>\n",
              "  </div>\n",
              "  "
            ]
          },
          "metadata": {},
          "execution_count": 24
        }
      ]
    },
    {
      "cell_type": "markdown",
      "source": [
        "c) Installs – remove ‘,’ and ‘+’ sign, convert to integer"
      ],
      "metadata": {
        "id": "BD5MXGy9vLgN"
      }
    },
    {
      "cell_type": "code",
      "source": [
        "Install = []\n",
        "for j in data[\"Installs\"]:\n",
        "    Install.append(j.replace(',','').replace('+', '').strip())\n",
        "data[\"Installs\"] = Install\n",
        "data[\"Installs\"] = data[\"Installs\"].astype(int)"
      ],
      "metadata": {
        "id": "VW6dgU_DvHKs"
      },
      "execution_count": 25,
      "outputs": []
    },
    {
      "cell_type": "markdown",
      "source": [
        "d) Convert all other identified columns to numeric"
      ],
      "metadata": {
        "id": "9Sv9txu4vTql"
      }
    },
    {
      "cell_type": "code",
      "source": [
        "data['Price']= data['Price'].astype('float')"
      ],
      "metadata": {
        "id": "lCHU3K76vQrk"
      },
      "execution_count": 26,
      "outputs": []
    },
    {
      "cell_type": "code",
      "source": [
        "data['Installs']= data['Installs'].astype('int')"
      ],
      "metadata": {
        "id": "N1OhxsktvW8o"
      },
      "execution_count": 27,
      "outputs": []
    },
    {
      "cell_type": "code",
      "source": [
        "data['Reviews']= data['Reviews'].astype('float')"
      ],
      "metadata": {
        "id": "AsNUpwKUvYb5"
      },
      "execution_count": 28,
      "outputs": []
    },
    {
      "cell_type": "markdown",
      "source": [
        "### Sanity checks – check for the following and handle accordingly\n",
        "a. Avg. rating should be between 1 and 5, as only these values are allowed on the play\n",
        "\n",
        "Are there any such records? Drop if so"
      ],
      "metadata": {
        "id": "iXOF4YPRwdsy"
      }
    },
    {
      "cell_type": "code",
      "source": [
        "data.loc[data.Rating < 1] & data.loc[data.Rating > 5]"
      ],
      "metadata": {
        "id": "gDWZgGdMvZ-2",
        "colab": {
          "base_uri": "https://localhost:8080/",
          "height": 49
        },
        "outputId": "cc643581-de89-4059-8ddf-e2437a0dd9a5"
      },
      "execution_count": 29,
      "outputs": [
        {
          "output_type": "execute_result",
          "data": {
            "text/plain": [
              "Empty DataFrame\n",
              "Columns: [App, Category, Rating, Reviews, Size, Installs, Type, Price, Content Rating, Genres, Last Updated, Current Ver, Android Ver]\n",
              "Index: []"
            ],
            "text/html": [
              "\n",
              "  <div id=\"df-56ec4577-4e09-4532-aa2b-82eb5ae8d5e6\">\n",
              "    <div class=\"colab-df-container\">\n",
              "      <div>\n",
              "<style scoped>\n",
              "    .dataframe tbody tr th:only-of-type {\n",
              "        vertical-align: middle;\n",
              "    }\n",
              "\n",
              "    .dataframe tbody tr th {\n",
              "        vertical-align: top;\n",
              "    }\n",
              "\n",
              "    .dataframe thead th {\n",
              "        text-align: right;\n",
              "    }\n",
              "</style>\n",
              "<table border=\"1\" class=\"dataframe\">\n",
              "  <thead>\n",
              "    <tr style=\"text-align: right;\">\n",
              "      <th></th>\n",
              "      <th>App</th>\n",
              "      <th>Category</th>\n",
              "      <th>Rating</th>\n",
              "      <th>Reviews</th>\n",
              "      <th>Size</th>\n",
              "      <th>Installs</th>\n",
              "      <th>Type</th>\n",
              "      <th>Price</th>\n",
              "      <th>Content Rating</th>\n",
              "      <th>Genres</th>\n",
              "      <th>Last Updated</th>\n",
              "      <th>Current Ver</th>\n",
              "      <th>Android Ver</th>\n",
              "    </tr>\n",
              "  </thead>\n",
              "  <tbody>\n",
              "  </tbody>\n",
              "</table>\n",
              "</div>\n",
              "      <button class=\"colab-df-convert\" onclick=\"convertToInteractive('df-56ec4577-4e09-4532-aa2b-82eb5ae8d5e6')\"\n",
              "              title=\"Convert this dataframe to an interactive table.\"\n",
              "              style=\"display:none;\">\n",
              "        \n",
              "  <svg xmlns=\"http://www.w3.org/2000/svg\" height=\"24px\"viewBox=\"0 0 24 24\"\n",
              "       width=\"24px\">\n",
              "    <path d=\"M0 0h24v24H0V0z\" fill=\"none\"/>\n",
              "    <path d=\"M18.56 5.44l.94 2.06.94-2.06 2.06-.94-2.06-.94-.94-2.06-.94 2.06-2.06.94zm-11 1L8.5 8.5l.94-2.06 2.06-.94-2.06-.94L8.5 2.5l-.94 2.06-2.06.94zm10 10l.94 2.06.94-2.06 2.06-.94-2.06-.94-.94-2.06-.94 2.06-2.06.94z\"/><path d=\"M17.41 7.96l-1.37-1.37c-.4-.4-.92-.59-1.43-.59-.52 0-1.04.2-1.43.59L10.3 9.45l-7.72 7.72c-.78.78-.78 2.05 0 2.83L4 21.41c.39.39.9.59 1.41.59.51 0 1.02-.2 1.41-.59l7.78-7.78 2.81-2.81c.8-.78.8-2.07 0-2.86zM5.41 20L4 18.59l7.72-7.72 1.47 1.35L5.41 20z\"/>\n",
              "  </svg>\n",
              "      </button>\n",
              "      \n",
              "  <style>\n",
              "    .colab-df-container {\n",
              "      display:flex;\n",
              "      flex-wrap:wrap;\n",
              "      gap: 12px;\n",
              "    }\n",
              "\n",
              "    .colab-df-convert {\n",
              "      background-color: #E8F0FE;\n",
              "      border: none;\n",
              "      border-radius: 50%;\n",
              "      cursor: pointer;\n",
              "      display: none;\n",
              "      fill: #1967D2;\n",
              "      height: 32px;\n",
              "      padding: 0 0 0 0;\n",
              "      width: 32px;\n",
              "    }\n",
              "\n",
              "    .colab-df-convert:hover {\n",
              "      background-color: #E2EBFA;\n",
              "      box-shadow: 0px 1px 2px rgba(60, 64, 67, 0.3), 0px 1px 3px 1px rgba(60, 64, 67, 0.15);\n",
              "      fill: #174EA6;\n",
              "    }\n",
              "\n",
              "    [theme=dark] .colab-df-convert {\n",
              "      background-color: #3B4455;\n",
              "      fill: #D2E3FC;\n",
              "    }\n",
              "\n",
              "    [theme=dark] .colab-df-convert:hover {\n",
              "      background-color: #434B5C;\n",
              "      box-shadow: 0px 1px 3px 1px rgba(0, 0, 0, 0.15);\n",
              "      filter: drop-shadow(0px 1px 2px rgba(0, 0, 0, 0.3));\n",
              "      fill: #FFFFFF;\n",
              "    }\n",
              "  </style>\n",
              "\n",
              "      <script>\n",
              "        const buttonEl =\n",
              "          document.querySelector('#df-56ec4577-4e09-4532-aa2b-82eb5ae8d5e6 button.colab-df-convert');\n",
              "        buttonEl.style.display =\n",
              "          google.colab.kernel.accessAllowed ? 'block' : 'none';\n",
              "\n",
              "        async function convertToInteractive(key) {\n",
              "          const element = document.querySelector('#df-56ec4577-4e09-4532-aa2b-82eb5ae8d5e6');\n",
              "          const dataTable =\n",
              "            await google.colab.kernel.invokeFunction('convertToInteractive',\n",
              "                                                     [key], {});\n",
              "          if (!dataTable) return;\n",
              "\n",
              "          const docLinkHtml = 'Like what you see? Visit the ' +\n",
              "            '<a target=\"_blank\" href=https://colab.research.google.com/notebooks/data_table.ipynb>data table notebook</a>'\n",
              "            + ' to learn more about interactive tables.';\n",
              "          element.innerHTML = '';\n",
              "          dataTable['output_type'] = 'display_data';\n",
              "          await google.colab.output.renderOutput(dataTable, element);\n",
              "          const docLink = document.createElement('div');\n",
              "          docLink.innerHTML = docLinkHtml;\n",
              "          element.appendChild(docLink);\n",
              "        }\n",
              "      </script>\n",
              "    </div>\n",
              "  </div>\n",
              "  "
            ]
          },
          "metadata": {},
          "execution_count": 29
        }
      ]
    },
    {
      "cell_type": "markdown",
      "source": [
        "Ans - All the values of average rating lies in between 1 and 5.There is no such average rating whose values is less than 1 and greater than 5."
      ],
      "metadata": {
        "id": "zaYAF6ttxDFZ"
      }
    },
    {
      "cell_type": "markdown",
      "source": [
        "### b. Reviews should not be more than installs as only those who installed can review the app.\n",
        "\n",
        "Are there any such records? Drop if so?"
      ],
      "metadata": {
        "id": "4R4jn3wxxXhI"
      }
    },
    {
      "cell_type": "code",
      "source": [
        "data.loc[data.Reviews > data.Installs]"
      ],
      "metadata": {
        "id": "LyatmjAWwmPg",
        "colab": {
          "base_uri": "https://localhost:8080/",
          "height": 365
        },
        "outputId": "67ee9b65-36ca-4e64-9b60-7dcde48b1055"
      },
      "execution_count": 30,
      "outputs": [
        {
          "output_type": "execute_result",
          "data": {
            "text/plain": [
              "                                 App   Category  Rating  Reviews  \\\n",
              "2454             KBA-EZ Health Guide    MEDICAL     5.0      4.0   \n",
              "4663   Alarmy (Sleep If U Can) - Pro  LIFESTYLE     4.8  10249.0   \n",
              "5917                        Ra Ga Ba       GAME     5.0      2.0   \n",
              "6700                Brick Breaker BR       GAME     5.0      7.0   \n",
              "7402            Trovami se ci riesci       GAME     5.0     11.0   \n",
              "8591                         DN Blog     SOCIAL     5.0     20.0   \n",
              "10697                        Mu.F.O.       GAME     5.0      2.0   \n",
              "\n",
              "               Size  Installs  Type  Price Content Rating     Genres  \\\n",
              "2454   25000.000000         1  Free   0.00       Everyone    Medical   \n",
              "4663   21516.529524     10000  Paid   2.49       Everyone  Lifestyle   \n",
              "5917   20000.000000         1  Paid   1.49       Everyone     Arcade   \n",
              "6700   19000.000000         5  Free   0.00       Everyone     Arcade   \n",
              "7402    6100.000000        10  Free   0.00       Everyone     Arcade   \n",
              "8591    4200.000000        10  Free   0.00           Teen     Social   \n",
              "10697  16000.000000         1  Paid   0.99       Everyone     Arcade   \n",
              "\n",
              "           Last Updated         Current Ver         Android Ver  \n",
              "2454     August 2, 2018              1.0.72        4.0.3 and up  \n",
              "4663      July 30, 2018  Varies with device  Varies with device  \n",
              "5917   February 8, 2017               1.0.4          2.3 and up  \n",
              "6700      July 23, 2018                 1.0          4.1 and up  \n",
              "7402     March 11, 2017                 0.1          2.3 and up  \n",
              "8591      July 23, 2018                 1.0          4.0 and up  \n",
              "10697     March 3, 2017                 1.0          2.3 and up  "
            ],
            "text/html": [
              "\n",
              "  <div id=\"df-994c1864-68b6-49de-a9f5-25b3ba43b3e6\">\n",
              "    <div class=\"colab-df-container\">\n",
              "      <div>\n",
              "<style scoped>\n",
              "    .dataframe tbody tr th:only-of-type {\n",
              "        vertical-align: middle;\n",
              "    }\n",
              "\n",
              "    .dataframe tbody tr th {\n",
              "        vertical-align: top;\n",
              "    }\n",
              "\n",
              "    .dataframe thead th {\n",
              "        text-align: right;\n",
              "    }\n",
              "</style>\n",
              "<table border=\"1\" class=\"dataframe\">\n",
              "  <thead>\n",
              "    <tr style=\"text-align: right;\">\n",
              "      <th></th>\n",
              "      <th>App</th>\n",
              "      <th>Category</th>\n",
              "      <th>Rating</th>\n",
              "      <th>Reviews</th>\n",
              "      <th>Size</th>\n",
              "      <th>Installs</th>\n",
              "      <th>Type</th>\n",
              "      <th>Price</th>\n",
              "      <th>Content Rating</th>\n",
              "      <th>Genres</th>\n",
              "      <th>Last Updated</th>\n",
              "      <th>Current Ver</th>\n",
              "      <th>Android Ver</th>\n",
              "    </tr>\n",
              "  </thead>\n",
              "  <tbody>\n",
              "    <tr>\n",
              "      <th>2454</th>\n",
              "      <td>KBA-EZ Health Guide</td>\n",
              "      <td>MEDICAL</td>\n",
              "      <td>5.0</td>\n",
              "      <td>4.0</td>\n",
              "      <td>25000.000000</td>\n",
              "      <td>1</td>\n",
              "      <td>Free</td>\n",
              "      <td>0.00</td>\n",
              "      <td>Everyone</td>\n",
              "      <td>Medical</td>\n",
              "      <td>August 2, 2018</td>\n",
              "      <td>1.0.72</td>\n",
              "      <td>4.0.3 and up</td>\n",
              "    </tr>\n",
              "    <tr>\n",
              "      <th>4663</th>\n",
              "      <td>Alarmy (Sleep If U Can) - Pro</td>\n",
              "      <td>LIFESTYLE</td>\n",
              "      <td>4.8</td>\n",
              "      <td>10249.0</td>\n",
              "      <td>21516.529524</td>\n",
              "      <td>10000</td>\n",
              "      <td>Paid</td>\n",
              "      <td>2.49</td>\n",
              "      <td>Everyone</td>\n",
              "      <td>Lifestyle</td>\n",
              "      <td>July 30, 2018</td>\n",
              "      <td>Varies with device</td>\n",
              "      <td>Varies with device</td>\n",
              "    </tr>\n",
              "    <tr>\n",
              "      <th>5917</th>\n",
              "      <td>Ra Ga Ba</td>\n",
              "      <td>GAME</td>\n",
              "      <td>5.0</td>\n",
              "      <td>2.0</td>\n",
              "      <td>20000.000000</td>\n",
              "      <td>1</td>\n",
              "      <td>Paid</td>\n",
              "      <td>1.49</td>\n",
              "      <td>Everyone</td>\n",
              "      <td>Arcade</td>\n",
              "      <td>February 8, 2017</td>\n",
              "      <td>1.0.4</td>\n",
              "      <td>2.3 and up</td>\n",
              "    </tr>\n",
              "    <tr>\n",
              "      <th>6700</th>\n",
              "      <td>Brick Breaker BR</td>\n",
              "      <td>GAME</td>\n",
              "      <td>5.0</td>\n",
              "      <td>7.0</td>\n",
              "      <td>19000.000000</td>\n",
              "      <td>5</td>\n",
              "      <td>Free</td>\n",
              "      <td>0.00</td>\n",
              "      <td>Everyone</td>\n",
              "      <td>Arcade</td>\n",
              "      <td>July 23, 2018</td>\n",
              "      <td>1.0</td>\n",
              "      <td>4.1 and up</td>\n",
              "    </tr>\n",
              "    <tr>\n",
              "      <th>7402</th>\n",
              "      <td>Trovami se ci riesci</td>\n",
              "      <td>GAME</td>\n",
              "      <td>5.0</td>\n",
              "      <td>11.0</td>\n",
              "      <td>6100.000000</td>\n",
              "      <td>10</td>\n",
              "      <td>Free</td>\n",
              "      <td>0.00</td>\n",
              "      <td>Everyone</td>\n",
              "      <td>Arcade</td>\n",
              "      <td>March 11, 2017</td>\n",
              "      <td>0.1</td>\n",
              "      <td>2.3 and up</td>\n",
              "    </tr>\n",
              "    <tr>\n",
              "      <th>8591</th>\n",
              "      <td>DN Blog</td>\n",
              "      <td>SOCIAL</td>\n",
              "      <td>5.0</td>\n",
              "      <td>20.0</td>\n",
              "      <td>4200.000000</td>\n",
              "      <td>10</td>\n",
              "      <td>Free</td>\n",
              "      <td>0.00</td>\n",
              "      <td>Teen</td>\n",
              "      <td>Social</td>\n",
              "      <td>July 23, 2018</td>\n",
              "      <td>1.0</td>\n",
              "      <td>4.0 and up</td>\n",
              "    </tr>\n",
              "    <tr>\n",
              "      <th>10697</th>\n",
              "      <td>Mu.F.O.</td>\n",
              "      <td>GAME</td>\n",
              "      <td>5.0</td>\n",
              "      <td>2.0</td>\n",
              "      <td>16000.000000</td>\n",
              "      <td>1</td>\n",
              "      <td>Paid</td>\n",
              "      <td>0.99</td>\n",
              "      <td>Everyone</td>\n",
              "      <td>Arcade</td>\n",
              "      <td>March 3, 2017</td>\n",
              "      <td>1.0</td>\n",
              "      <td>2.3 and up</td>\n",
              "    </tr>\n",
              "  </tbody>\n",
              "</table>\n",
              "</div>\n",
              "      <button class=\"colab-df-convert\" onclick=\"convertToInteractive('df-994c1864-68b6-49de-a9f5-25b3ba43b3e6')\"\n",
              "              title=\"Convert this dataframe to an interactive table.\"\n",
              "              style=\"display:none;\">\n",
              "        \n",
              "  <svg xmlns=\"http://www.w3.org/2000/svg\" height=\"24px\"viewBox=\"0 0 24 24\"\n",
              "       width=\"24px\">\n",
              "    <path d=\"M0 0h24v24H0V0z\" fill=\"none\"/>\n",
              "    <path d=\"M18.56 5.44l.94 2.06.94-2.06 2.06-.94-2.06-.94-.94-2.06-.94 2.06-2.06.94zm-11 1L8.5 8.5l.94-2.06 2.06-.94-2.06-.94L8.5 2.5l-.94 2.06-2.06.94zm10 10l.94 2.06.94-2.06 2.06-.94-2.06-.94-.94-2.06-.94 2.06-2.06.94z\"/><path d=\"M17.41 7.96l-1.37-1.37c-.4-.4-.92-.59-1.43-.59-.52 0-1.04.2-1.43.59L10.3 9.45l-7.72 7.72c-.78.78-.78 2.05 0 2.83L4 21.41c.39.39.9.59 1.41.59.51 0 1.02-.2 1.41-.59l7.78-7.78 2.81-2.81c.8-.78.8-2.07 0-2.86zM5.41 20L4 18.59l7.72-7.72 1.47 1.35L5.41 20z\"/>\n",
              "  </svg>\n",
              "      </button>\n",
              "      \n",
              "  <style>\n",
              "    .colab-df-container {\n",
              "      display:flex;\n",
              "      flex-wrap:wrap;\n",
              "      gap: 12px;\n",
              "    }\n",
              "\n",
              "    .colab-df-convert {\n",
              "      background-color: #E8F0FE;\n",
              "      border: none;\n",
              "      border-radius: 50%;\n",
              "      cursor: pointer;\n",
              "      display: none;\n",
              "      fill: #1967D2;\n",
              "      height: 32px;\n",
              "      padding: 0 0 0 0;\n",
              "      width: 32px;\n",
              "    }\n",
              "\n",
              "    .colab-df-convert:hover {\n",
              "      background-color: #E2EBFA;\n",
              "      box-shadow: 0px 1px 2px rgba(60, 64, 67, 0.3), 0px 1px 3px 1px rgba(60, 64, 67, 0.15);\n",
              "      fill: #174EA6;\n",
              "    }\n",
              "\n",
              "    [theme=dark] .colab-df-convert {\n",
              "      background-color: #3B4455;\n",
              "      fill: #D2E3FC;\n",
              "    }\n",
              "\n",
              "    [theme=dark] .colab-df-convert:hover {\n",
              "      background-color: #434B5C;\n",
              "      box-shadow: 0px 1px 3px 1px rgba(0, 0, 0, 0.15);\n",
              "      filter: drop-shadow(0px 1px 2px rgba(0, 0, 0, 0.3));\n",
              "      fill: #FFFFFF;\n",
              "    }\n",
              "  </style>\n",
              "\n",
              "      <script>\n",
              "        const buttonEl =\n",
              "          document.querySelector('#df-994c1864-68b6-49de-a9f5-25b3ba43b3e6 button.colab-df-convert');\n",
              "        buttonEl.style.display =\n",
              "          google.colab.kernel.accessAllowed ? 'block' : 'none';\n",
              "\n",
              "        async function convertToInteractive(key) {\n",
              "          const element = document.querySelector('#df-994c1864-68b6-49de-a9f5-25b3ba43b3e6');\n",
              "          const dataTable =\n",
              "            await google.colab.kernel.invokeFunction('convertToInteractive',\n",
              "                                                     [key], {});\n",
              "          if (!dataTable) return;\n",
              "\n",
              "          const docLinkHtml = 'Like what you see? Visit the ' +\n",
              "            '<a target=\"_blank\" href=https://colab.research.google.com/notebooks/data_table.ipynb>data table notebook</a>'\n",
              "            + ' to learn more about interactive tables.';\n",
              "          element.innerHTML = '';\n",
              "          dataTable['output_type'] = 'display_data';\n",
              "          await google.colab.output.renderOutput(dataTable, element);\n",
              "          const docLink = document.createElement('div');\n",
              "          docLink.innerHTML = docLinkHtml;\n",
              "          element.appendChild(docLink);\n",
              "        }\n",
              "      </script>\n",
              "    </div>\n",
              "  </div>\n",
              "  "
            ]
          },
          "metadata": {},
          "execution_count": 30
        }
      ]
    },
    {
      "cell_type": "markdown",
      "source": [
        "Ans - Yes, there are seven records in which Reviews is greater than Installs."
      ],
      "metadata": {
        "id": "kEFK21gyxoPT"
      }
    },
    {
      "cell_type": "code",
      "source": [
        "tempdata = data[data.Reviews > data.Installs].index\n",
        "data.drop(labels=tempdata, inplace = True)"
      ],
      "metadata": {
        "id": "2SYkK4nMxVkq"
      },
      "execution_count": 31,
      "outputs": []
    },
    {
      "cell_type": "code",
      "source": [
        "data.loc[data.Reviews > data.Installs]"
      ],
      "metadata": {
        "id": "OEx0oMbqxyuQ",
        "colab": {
          "base_uri": "https://localhost:8080/",
          "height": 49
        },
        "outputId": "62d514f0-57fe-4179-a29f-a5b1550d0253"
      },
      "execution_count": 32,
      "outputs": [
        {
          "output_type": "execute_result",
          "data": {
            "text/plain": [
              "Empty DataFrame\n",
              "Columns: [App, Category, Rating, Reviews, Size, Installs, Type, Price, Content Rating, Genres, Last Updated, Current Ver, Android Ver]\n",
              "Index: []"
            ],
            "text/html": [
              "\n",
              "  <div id=\"df-8751ad87-5a9a-4bd2-86a0-e32d2de1b9ae\">\n",
              "    <div class=\"colab-df-container\">\n",
              "      <div>\n",
              "<style scoped>\n",
              "    .dataframe tbody tr th:only-of-type {\n",
              "        vertical-align: middle;\n",
              "    }\n",
              "\n",
              "    .dataframe tbody tr th {\n",
              "        vertical-align: top;\n",
              "    }\n",
              "\n",
              "    .dataframe thead th {\n",
              "        text-align: right;\n",
              "    }\n",
              "</style>\n",
              "<table border=\"1\" class=\"dataframe\">\n",
              "  <thead>\n",
              "    <tr style=\"text-align: right;\">\n",
              "      <th></th>\n",
              "      <th>App</th>\n",
              "      <th>Category</th>\n",
              "      <th>Rating</th>\n",
              "      <th>Reviews</th>\n",
              "      <th>Size</th>\n",
              "      <th>Installs</th>\n",
              "      <th>Type</th>\n",
              "      <th>Price</th>\n",
              "      <th>Content Rating</th>\n",
              "      <th>Genres</th>\n",
              "      <th>Last Updated</th>\n",
              "      <th>Current Ver</th>\n",
              "      <th>Android Ver</th>\n",
              "    </tr>\n",
              "  </thead>\n",
              "  <tbody>\n",
              "  </tbody>\n",
              "</table>\n",
              "</div>\n",
              "      <button class=\"colab-df-convert\" onclick=\"convertToInteractive('df-8751ad87-5a9a-4bd2-86a0-e32d2de1b9ae')\"\n",
              "              title=\"Convert this dataframe to an interactive table.\"\n",
              "              style=\"display:none;\">\n",
              "        \n",
              "  <svg xmlns=\"http://www.w3.org/2000/svg\" height=\"24px\"viewBox=\"0 0 24 24\"\n",
              "       width=\"24px\">\n",
              "    <path d=\"M0 0h24v24H0V0z\" fill=\"none\"/>\n",
              "    <path d=\"M18.56 5.44l.94 2.06.94-2.06 2.06-.94-2.06-.94-.94-2.06-.94 2.06-2.06.94zm-11 1L8.5 8.5l.94-2.06 2.06-.94-2.06-.94L8.5 2.5l-.94 2.06-2.06.94zm10 10l.94 2.06.94-2.06 2.06-.94-2.06-.94-.94-2.06-.94 2.06-2.06.94z\"/><path d=\"M17.41 7.96l-1.37-1.37c-.4-.4-.92-.59-1.43-.59-.52 0-1.04.2-1.43.59L10.3 9.45l-7.72 7.72c-.78.78-.78 2.05 0 2.83L4 21.41c.39.39.9.59 1.41.59.51 0 1.02-.2 1.41-.59l7.78-7.78 2.81-2.81c.8-.78.8-2.07 0-2.86zM5.41 20L4 18.59l7.72-7.72 1.47 1.35L5.41 20z\"/>\n",
              "  </svg>\n",
              "      </button>\n",
              "      \n",
              "  <style>\n",
              "    .colab-df-container {\n",
              "      display:flex;\n",
              "      flex-wrap:wrap;\n",
              "      gap: 12px;\n",
              "    }\n",
              "\n",
              "    .colab-df-convert {\n",
              "      background-color: #E8F0FE;\n",
              "      border: none;\n",
              "      border-radius: 50%;\n",
              "      cursor: pointer;\n",
              "      display: none;\n",
              "      fill: #1967D2;\n",
              "      height: 32px;\n",
              "      padding: 0 0 0 0;\n",
              "      width: 32px;\n",
              "    }\n",
              "\n",
              "    .colab-df-convert:hover {\n",
              "      background-color: #E2EBFA;\n",
              "      box-shadow: 0px 1px 2px rgba(60, 64, 67, 0.3), 0px 1px 3px 1px rgba(60, 64, 67, 0.15);\n",
              "      fill: #174EA6;\n",
              "    }\n",
              "\n",
              "    [theme=dark] .colab-df-convert {\n",
              "      background-color: #3B4455;\n",
              "      fill: #D2E3FC;\n",
              "    }\n",
              "\n",
              "    [theme=dark] .colab-df-convert:hover {\n",
              "      background-color: #434B5C;\n",
              "      box-shadow: 0px 1px 3px 1px rgba(0, 0, 0, 0.15);\n",
              "      filter: drop-shadow(0px 1px 2px rgba(0, 0, 0, 0.3));\n",
              "      fill: #FFFFFF;\n",
              "    }\n",
              "  </style>\n",
              "\n",
              "      <script>\n",
              "        const buttonEl =\n",
              "          document.querySelector('#df-8751ad87-5a9a-4bd2-86a0-e32d2de1b9ae button.colab-df-convert');\n",
              "        buttonEl.style.display =\n",
              "          google.colab.kernel.accessAllowed ? 'block' : 'none';\n",
              "\n",
              "        async function convertToInteractive(key) {\n",
              "          const element = document.querySelector('#df-8751ad87-5a9a-4bd2-86a0-e32d2de1b9ae');\n",
              "          const dataTable =\n",
              "            await google.colab.kernel.invokeFunction('convertToInteractive',\n",
              "                                                     [key], {});\n",
              "          if (!dataTable) return;\n",
              "\n",
              "          const docLinkHtml = 'Like what you see? Visit the ' +\n",
              "            '<a target=\"_blank\" href=https://colab.research.google.com/notebooks/data_table.ipynb>data table notebook</a>'\n",
              "            + ' to learn more about interactive tables.';\n",
              "          element.innerHTML = '';\n",
              "          dataTable['output_type'] = 'display_data';\n",
              "          await google.colab.output.renderOutput(dataTable, element);\n",
              "          const docLink = document.createElement('div');\n",
              "          docLink.innerHTML = docLinkHtml;\n",
              "          element.appendChild(docLink);\n",
              "        }\n",
              "      </script>\n",
              "    </div>\n",
              "  </div>\n",
              "  "
            ]
          },
          "metadata": {},
          "execution_count": 32
        }
      ]
    },
    {
      "cell_type": "markdown",
      "source": [
        "## Identify and handle outliers –"
      ],
      "metadata": {
        "id": "OXzNgW42yDQr"
      }
    },
    {
      "cell_type": "markdown",
      "source": [
        "## Price column\n",
        "i. Make suitable plot to identify outliers in price"
      ],
      "metadata": {
        "id": "kstUy-uQMVA1"
      }
    },
    {
      "cell_type": "code",
      "source": [
        "data.boxplot(column='Price')"
      ],
      "metadata": {
        "id": "YUl_V2bsx1GF",
        "colab": {
          "base_uri": "https://localhost:8080/",
          "height": 282
        },
        "outputId": "c4c6605a-5e55-4d40-8a84-4cfe9592e94b"
      },
      "execution_count": 33,
      "outputs": [
        {
          "output_type": "execute_result",
          "data": {
            "text/plain": [
              "<matplotlib.axes._subplots.AxesSubplot at 0x7ff1db83b390>"
            ]
          },
          "metadata": {},
          "execution_count": 33
        },
        {
          "output_type": "display_data",
          "data": {
            "text/plain": [
              "<Figure size 432x288 with 1 Axes>"
            ],
            "image/png": "[encoded data removed]"
          },
          "metadata": {
            "needs_background": "light"
          }
        }
      ]
    },
    {
      "cell_type": "markdown",
      "source": [
        "## Do you expect apps on the playstore to cost $200? Check out these cases"
      ],
      "metadata": {
        "id": "QswqvC5_OxUL"
      }
    },
    {
      "cell_type": "code",
      "source": [
        "data.loc[data.Price>200]"
      ],
      "metadata": {
        "id": "CKHpaWT3MZrr",
        "colab": {
          "base_uri": "https://localhost:8080/",
          "height": 633
        },
        "outputId": "11097e64-ce7c-4497-fd0e-6743c838abeb"
      },
      "execution_count": 34,
      "outputs": [
        {
          "output_type": "execute_result",
          "data": {
            "text/plain": [
              "                                 App   Category  Rating  Reviews     Size  \\\n",
              "4197          most expensive app (H)     FAMILY     4.3      6.0   1500.0   \n",
              "4362                      💎 I'm rich  LIFESTYLE     3.8    718.0  26000.0   \n",
              "4367        I'm Rich - Trump Edition  LIFESTYLE     3.6    275.0   7300.0   \n",
              "5351                       I am rich  LIFESTYLE     3.8   3547.0   1800.0   \n",
              "5354                  I am Rich Plus     FAMILY     4.0    856.0   8700.0   \n",
              "5355                   I am rich VIP  LIFESTYLE     3.8    411.0   2600.0   \n",
              "5356               I Am Rich Premium    FINANCE     4.1   1867.0   4700.0   \n",
              "5357             I am extremely Rich  LIFESTYLE     2.9     41.0   2900.0   \n",
              "5358                      I am Rich!    FINANCE     3.8     93.0  22000.0   \n",
              "5359              I am rich(premium)    FINANCE     3.5    472.0    965.0   \n",
              "5362                   I Am Rich Pro     FAMILY     4.4    201.0   2700.0   \n",
              "5364  I am rich (Most expensive app)    FINANCE     4.1    129.0   2700.0   \n",
              "5366                       I Am Rich     FAMILY     3.6    217.0   4900.0   \n",
              "5369                       I am Rich    FINANCE     4.3    180.0   3800.0   \n",
              "5373              I AM RICH PRO PLUS    FINANCE     4.0     36.0  41000.0   \n",
              "\n",
              "      Installs  Type   Price Content Rating         Genres       Last Updated  \\\n",
              "4197       100  Paid  399.99       Everyone  Entertainment      July 16, 2018   \n",
              "4362     10000  Paid  399.99       Everyone      Lifestyle     March 11, 2018   \n",
              "4367     10000  Paid  400.00       Everyone      Lifestyle        May 3, 2018   \n",
              "5351    100000  Paid  399.99       Everyone      Lifestyle   January 12, 2018   \n",
              "5354     10000  Paid  399.99       Everyone  Entertainment       May 19, 2018   \n",
              "5355     10000  Paid  299.99       Everyone      Lifestyle      July 21, 2018   \n",
              "5356     50000  Paid  399.99       Everyone        Finance  November 12, 2017   \n",
              "5357      1000  Paid  379.99       Everyone      Lifestyle       July 1, 2018   \n",
              "5358      1000  Paid  399.99       Everyone        Finance  December 11, 2017   \n",
              "5359      5000  Paid  399.99       Everyone        Finance        May 1, 2017   \n",
              "5362      5000  Paid  399.99       Everyone  Entertainment       May 30, 2017   \n",
              "5364      1000  Paid  399.99           Teen        Finance   December 6, 2017   \n",
              "5366     10000  Paid  389.99       Everyone  Entertainment      June 22, 2018   \n",
              "5369      5000  Paid  399.99       Everyone        Finance     March 22, 2018   \n",
              "5373      1000  Paid  399.99       Everyone        Finance      June 25, 2018   \n",
              "\n",
              "     Current Ver   Android Ver  \n",
              "4197         1.0    7.0 and up  \n",
              "4362       1.0.0    4.4 and up  \n",
              "4367       1.0.1    4.1 and up  \n",
              "5351         2.0  4.0.3 and up  \n",
              "5354         3.0    4.4 and up  \n",
              "5355       1.1.1    4.3 and up  \n",
              "5356         1.6    4.0 and up  \n",
              "5357         1.0    4.0 and up  \n",
              "5358         1.0    4.1 and up  \n",
              "5359         3.4    4.4 and up  \n",
              "5362        1.54    1.6 and up  \n",
              "5364           2  4.0.3 and up  \n",
              "5366         1.5    4.2 and up  \n",
              "5369         1.0    4.2 and up  \n",
              "5373       1.0.2    4.1 and up  "
            ],
            "text/html": [
              "\n",
              "  <div id=\"df-7a8167a4-fa87-4566-9b6f-876d562f782f\">\n",
              "    <div class=\"colab-df-container\">\n",
              "      <div>\n",
              "<style scoped>\n",
              "    .dataframe tbody tr th:only-of-type {\n",
              "        vertical-align: middle;\n",
              "    }\n",
              "\n",
              "    .dataframe tbody tr th {\n",
              "        vertical-align: top;\n",
              "    }\n",
              "\n",
              "    .dataframe thead th {\n",
              "        text-align: right;\n",
              "    }\n",
              "</style>\n",
              "<table border=\"1\" class=\"dataframe\">\n",
              "  <thead>\n",
              "    <tr style=\"text-align: right;\">\n",
              "      <th></th>\n",
              "      <th>App</th>\n",
              "      <th>Category</th>\n",
              "      <th>Rating</th>\n",
              "      <th>Reviews</th>\n",
              "      <th>Size</th>\n",
              "      <th>Installs</th>\n",
              "      <th>Type</th>\n",
              "      <th>Price</th>\n",
              "      <th>Content Rating</th>\n",
              "      <th>Genres</th>\n",
              "      <th>Last Updated</th>\n",
              "      <th>Current Ver</th>\n",
              "      <th>Android Ver</th>\n",
              "    </tr>\n",
              "  </thead>\n",
              "  <tbody>\n",
              "    <tr>\n",
              "      <th>4197</th>\n",
              "      <td>most expensive app (H)</td>\n",
              "      <td>FAMILY</td>\n",
              "      <td>4.3</td>\n",
              "      <td>6.0</td>\n",
              "      <td>1500.0</td>\n",
              "      <td>100</td>\n",
              "      <td>Paid</td>\n",
              "      <td>399.99</td>\n",
              "      <td>Everyone</td>\n",
              "      <td>Entertainment</td>\n",
              "      <td>July 16, 2018</td>\n",
              "      <td>1.0</td>\n",
              "      <td>7.0 and up</td>\n",
              "    </tr>\n",
              "    <tr>\n",
              "      <th>4362</th>\n",
              "      <td>💎 I'm rich</td>\n",
              "      <td>LIFESTYLE</td>\n",
              "      <td>3.8</td>\n",
              "      <td>718.0</td>\n",
              "      <td>26000.0</td>\n",
              "      <td>10000</td>\n",
              "      <td>Paid</td>\n",
              "      <td>399.99</td>\n",
              "      <td>Everyone</td>\n",
              "      <td>Lifestyle</td>\n",
              "      <td>March 11, 2018</td>\n",
              "      <td>1.0.0</td>\n",
              "      <td>4.4 and up</td>\n",
              "    </tr>\n",
              "    <tr>\n",
              "      <th>4367</th>\n",
              "      <td>I'm Rich - Trump Edition</td>\n",
              "      <td>LIFESTYLE</td>\n",
              "      <td>3.6</td>\n",
              "      <td>275.0</td>\n",
              "      <td>7300.0</td>\n",
              "      <td>10000</td>\n",
              "      <td>Paid</td>\n",
              "      <td>400.00</td>\n",
              "      <td>Everyone</td>\n",
              "      <td>Lifestyle</td>\n",
              "      <td>May 3, 2018</td>\n",
              "      <td>1.0.1</td>\n",
              "      <td>4.1 and up</td>\n",
              "    </tr>\n",
              "    <tr>\n",
              "      <th>5351</th>\n",
              "      <td>I am rich</td>\n",
              "      <td>LIFESTYLE</td>\n",
              "      <td>3.8</td>\n",
              "      <td>3547.0</td>\n",
              "      <td>1800.0</td>\n",
              "      <td>100000</td>\n",
              "      <td>Paid</td>\n",
              "      <td>399.99</td>\n",
              "      <td>Everyone</td>\n",
              "      <td>Lifestyle</td>\n",
              "      <td>January 12, 2018</td>\n",
              "      <td>2.0</td>\n",
              "      <td>4.0.3 and up</td>\n",
              "    </tr>\n",
              "    <tr>\n",
              "      <th>5354</th>\n",
              "      <td>I am Rich Plus</td>\n",
              "      <td>FAMILY</td>\n",
              "      <td>4.0</td>\n",
              "      <td>856.0</td>\n",
              "      <td>8700.0</td>\n",
              "      <td>10000</td>\n",
              "      <td>Paid</td>\n",
              "      <td>399.99</td>\n",
              "      <td>Everyone</td>\n",
              "      <td>Entertainment</td>\n",
              "      <td>May 19, 2018</td>\n",
              "      <td>3.0</td>\n",
              "      <td>4.4 and up</td>\n",
              "    </tr>\n",
              "    <tr>\n",
              "      <th>5355</th>\n",
              "      <td>I am rich VIP</td>\n",
              "      <td>LIFESTYLE</td>\n",
              "      <td>3.8</td>\n",
              "      <td>411.0</td>\n",
              "      <td>2600.0</td>\n",
              "      <td>10000</td>\n",
              "      <td>Paid</td>\n",
              "      <td>299.99</td>\n",
              "      <td>Everyone</td>\n",
              "      <td>Lifestyle</td>\n",
              "      <td>July 21, 2018</td>\n",
              "      <td>1.1.1</td>\n",
              "      <td>4.3 and up</td>\n",
              "    </tr>\n",
              "    <tr>\n",
              "      <th>5356</th>\n",
              "      <td>I Am Rich Premium</td>\n",
              "      <td>FINANCE</td>\n",
              "      <td>4.1</td>\n",
              "      <td>1867.0</td>\n",
              "      <td>4700.0</td>\n",
              "      <td>50000</td>\n",
              "      <td>Paid</td>\n",
              "      <td>399.99</td>\n",
              "      <td>Everyone</td>\n",
              "      <td>Finance</td>\n",
              "      <td>November 12, 2017</td>\n",
              "      <td>1.6</td>\n",
              "      <td>4.0 and up</td>\n",
              "    </tr>\n",
              "    <tr>\n",
              "      <th>5357</th>\n",
              "      <td>I am extremely Rich</td>\n",
              "      <td>LIFESTYLE</td>\n",
              "      <td>2.9</td>\n",
              "      <td>41.0</td>\n",
              "      <td>2900.0</td>\n",
              "      <td>1000</td>\n",
              "      <td>Paid</td>\n",
              "      <td>379.99</td>\n",
              "      <td>Everyone</td>\n",
              "      <td>Lifestyle</td>\n",
              "      <td>July 1, 2018</td>\n",
              "      <td>1.0</td>\n",
              "      <td>4.0 and up</td>\n",
              "    </tr>\n",
              "    <tr>\n",
              "      <th>5358</th>\n",
              "      <td>I am Rich!</td>\n",
              "      <td>FINANCE</td>\n",
              "      <td>3.8</td>\n",
              "      <td>93.0</td>\n",
              "      <td>22000.0</td>\n",
              "      <td>1000</td>\n",
              "      <td>Paid</td>\n",
              "      <td>399.99</td>\n",
              "      <td>Everyone</td>\n",
              "      <td>Finance</td>\n",
              "      <td>December 11, 2017</td>\n",
              "      <td>1.0</td>\n",
              "      <td>4.1 and up</td>\n",
              "    </tr>\n",
              "    <tr>\n",
              "      <th>5359</th>\n",
              "      <td>I am rich(premium)</td>\n",
              "      <td>FINANCE</td>\n",
              "      <td>3.5</td>\n",
              "      <td>472.0</td>\n",
              "      <td>965.0</td>\n",
              "      <td>5000</td>\n",
              "      <td>Paid</td>\n",
              "      <td>399.99</td>\n",
              "      <td>Everyone</td>\n",
              "      <td>Finance</td>\n",
              "      <td>May 1, 2017</td>\n",
              "      <td>3.4</td>\n",
              "      <td>4.4 and up</td>\n",
              "    </tr>\n",
              "    <tr>\n",
              "      <th>5362</th>\n",
              "      <td>I Am Rich Pro</td>\n",
              "      <td>FAMILY</td>\n",
              "      <td>4.4</td>\n",
              "      <td>201.0</td>\n",
              "      <td>2700.0</td>\n",
              "      <td>5000</td>\n",
              "      <td>Paid</td>\n",
              "      <td>399.99</td>\n",
              "      <td>Everyone</td>\n",
              "      <td>Entertainment</td>\n",
              "      <td>May 30, 2017</td>\n",
              "      <td>1.54</td>\n",
              "      <td>1.6 and up</td>\n",
              "    </tr>\n",
              "    <tr>\n",
              "      <th>5364</th>\n",
              "      <td>I am rich (Most expensive app)</td>\n",
              "      <td>FINANCE</td>\n",
              "      <td>4.1</td>\n",
              "      <td>129.0</td>\n",
              "      <td>2700.0</td>\n",
              "      <td>1000</td>\n",
              "      <td>Paid</td>\n",
              "      <td>399.99</td>\n",
              "      <td>Teen</td>\n",
              "      <td>Finance</td>\n",
              "      <td>December 6, 2017</td>\n",
              "      <td>2</td>\n",
              "      <td>4.0.3 and up</td>\n",
              "    </tr>\n",
              "    <tr>\n",
              "      <th>5366</th>\n",
              "      <td>I Am Rich</td>\n",
              "      <td>FAMILY</td>\n",
              "      <td>3.6</td>\n",
              "      <td>217.0</td>\n",
              "      <td>4900.0</td>\n",
              "      <td>10000</td>\n",
              "      <td>Paid</td>\n",
              "      <td>389.99</td>\n",
              "      <td>Everyone</td>\n",
              "      <td>Entertainment</td>\n",
              "      <td>June 22, 2018</td>\n",
              "      <td>1.5</td>\n",
              "      <td>4.2 and up</td>\n",
              "    </tr>\n",
              "    <tr>\n",
              "      <th>5369</th>\n",
              "      <td>I am Rich</td>\n",
              "      <td>FINANCE</td>\n",
              "      <td>4.3</td>\n",
              "      <td>180.0</td>\n",
              "      <td>3800.0</td>\n",
              "      <td>5000</td>\n",
              "      <td>Paid</td>\n",
              "      <td>399.99</td>\n",
              "      <td>Everyone</td>\n",
              "      <td>Finance</td>\n",
              "      <td>March 22, 2018</td>\n",
              "      <td>1.0</td>\n",
              "      <td>4.2 and up</td>\n",
              "    </tr>\n",
              "    <tr>\n",
              "      <th>5373</th>\n",
              "      <td>I AM RICH PRO PLUS</td>\n",
              "      <td>FINANCE</td>\n",
              "      <td>4.0</td>\n",
              "      <td>36.0</td>\n",
              "      <td>41000.0</td>\n",
              "      <td>1000</td>\n",
              "      <td>Paid</td>\n",
              "      <td>399.99</td>\n",
              "      <td>Everyone</td>\n",
              "      <td>Finance</td>\n",
              "      <td>June 25, 2018</td>\n",
              "      <td>1.0.2</td>\n",
              "      <td>4.1 and up</td>\n",
              "    </tr>\n",
              "  </tbody>\n",
              "</table>\n",
              "</div>\n",
              "      <button class=\"colab-df-convert\" onclick=\"convertToInteractive('df-7a8167a4-fa87-4566-9b6f-876d562f782f')\"\n",
              "              title=\"Convert this dataframe to an interactive table.\"\n",
              "              style=\"display:none;\">\n",
              "        \n",
              "  <svg xmlns=\"http://www.w3.org/2000/svg\" height=\"24px\"viewBox=\"0 0 24 24\"\n",
              "       width=\"24px\">\n",
              "    <path d=\"M0 0h24v24H0V0z\" fill=\"none\"/>\n",
              "    <path d=\"M18.56 5.44l.94 2.06.94-2.06 2.06-.94-2.06-.94-.94-2.06-.94 2.06-2.06.94zm-11 1L8.5 8.5l.94-2.06 2.06-.94-2.06-.94L8.5 2.5l-.94 2.06-2.06.94zm10 10l.94 2.06.94-2.06 2.06-.94-2.06-.94-.94-2.06-.94 2.06-2.06.94z\"/><path d=\"M17.41 7.96l-1.37-1.37c-.4-.4-.92-.59-1.43-.59-.52 0-1.04.2-1.43.59L10.3 9.45l-7.72 7.72c-.78.78-.78 2.05 0 2.83L4 21.41c.39.39.9.59 1.41.59.51 0 1.02-.2 1.41-.59l7.78-7.78 2.81-2.81c.8-.78.8-2.07 0-2.86zM5.41 20L4 18.59l7.72-7.72 1.47 1.35L5.41 20z\"/>\n",
              "  </svg>\n",
              "      </button>\n",
              "      \n",
              "  <style>\n",
              "    .colab-df-container {\n",
              "      display:flex;\n",
              "      flex-wrap:wrap;\n",
              "      gap: 12px;\n",
              "    }\n",
              "\n",
              "    .colab-df-convert {\n",
              "      background-color: #E8F0FE;\n",
              "      border: none;\n",
              "      border-radius: 50%;\n",
              "      cursor: pointer;\n",
              "      display: none;\n",
              "      fill: #1967D2;\n",
              "      height: 32px;\n",
              "      padding: 0 0 0 0;\n",
              "      width: 32px;\n",
              "    }\n",
              "\n",
              "    .colab-df-convert:hover {\n",
              "      background-color: #E2EBFA;\n",
              "      box-shadow: 0px 1px 2px rgba(60, 64, 67, 0.3), 0px 1px 3px 1px rgba(60, 64, 67, 0.15);\n",
              "      fill: #174EA6;\n",
              "    }\n",
              "\n",
              "    [theme=dark] .colab-df-convert {\n",
              "      background-color: #3B4455;\n",
              "      fill: #D2E3FC;\n",
              "    }\n",
              "\n",
              "    [theme=dark] .colab-df-convert:hover {\n",
              "      background-color: #434B5C;\n",
              "      box-shadow: 0px 1px 3px 1px rgba(0, 0, 0, 0.15);\n",
              "      filter: drop-shadow(0px 1px 2px rgba(0, 0, 0, 0.3));\n",
              "      fill: #FFFFFF;\n",
              "    }\n",
              "  </style>\n",
              "\n",
              "      <script>\n",
              "        const buttonEl =\n",
              "          document.querySelector('#df-7a8167a4-fa87-4566-9b6f-876d562f782f button.colab-df-convert');\n",
              "        buttonEl.style.display =\n",
              "          google.colab.kernel.accessAllowed ? 'block' : 'none';\n",
              "\n",
              "        async function convertToInteractive(key) {\n",
              "          const element = document.querySelector('#df-7a8167a4-fa87-4566-9b6f-876d562f782f');\n",
              "          const dataTable =\n",
              "            await google.colab.kernel.invokeFunction('convertToInteractive',\n",
              "                                                     [key], {});\n",
              "          if (!dataTable) return;\n",
              "\n",
              "          const docLinkHtml = 'Like what you see? Visit the ' +\n",
              "            '<a target=\"_blank\" href=https://colab.research.google.com/notebooks/data_table.ipynb>data table notebook</a>'\n",
              "            + ' to learn more about interactive tables.';\n",
              "          element.innerHTML = '';\n",
              "          dataTable['output_type'] = 'display_data';\n",
              "          await google.colab.output.renderOutput(dataTable, element);\n",
              "          const docLink = document.createElement('div');\n",
              "          docLink.innerHTML = docLinkHtml;\n",
              "          element.appendChild(docLink);\n",
              "        }\n",
              "      </script>\n",
              "    </div>\n",
              "  </div>\n",
              "  "
            ]
          },
          "metadata": {},
          "execution_count": 34
        }
      ]
    },
    {
      "cell_type": "markdown",
      "source": [
        "Yes, There are many record in this playstore data in which app price value is greater than 200."
      ],
      "metadata": {
        "id": "uP5lJ-YMPEzD"
      }
    },
    {
      "cell_type": "markdown",
      "source": [
        "## Limit data to records with price < $30"
      ],
      "metadata": {
        "id": "g7Lj7hmXPJ6p"
      }
    },
    {
      "cell_type": "code",
      "source": [
        "price30 = data[data.Price > 30].index\n",
        "data.drop(labels=price30, inplace=True)\n",
        "print(\"Total number of deleted record is \",price30.value_counts().sum())"
      ],
      "metadata": {
        "colab": {
          "base_uri": "https://localhost:8080/"
        },
        "id": "bYBkrLWvO1TQ",
        "outputId": "295ac32f-30e4-480c-e1e2-c1198e9d2b74"
      },
      "execution_count": 35,
      "outputs": [
        {
          "output_type": "stream",
          "name": "stdout",
          "text": [
            "Total number of deleted record is  21\n"
          ]
        }
      ]
    },
    {
      "cell_type": "markdown",
      "source": [
        "### After dropping the useless records, make the suitable plot again to identify outliers"
      ],
      "metadata": {
        "id": "GeZfulZ_PVff"
      }
    },
    {
      "cell_type": "code",
      "source": [
        "data.boxplot(column='Price')"
      ],
      "metadata": {
        "colab": {
          "base_uri": "https://localhost:8080/",
          "height": 282
        },
        "id": "XU2GX_TOPR94",
        "outputId": "86f4d1e7-4697-428b-967d-16a6c93dc637"
      },
      "execution_count": 36,
      "outputs": [
        {
          "output_type": "execute_result",
          "data": {
            "text/plain": [
              "<matplotlib.axes._subplots.AxesSubplot at 0x7ff1db764390>"
            ]
          },
          "metadata": {},
          "execution_count": 36
        },
        {
          "output_type": "display_data",
          "data": {
            "text/plain": [
              "<Figure size 432x288 with 1 Axes>"
            ],
            "image/png": "[encoded data removed]"
          },
          "metadata": {
            "needs_background": "light"
          }
        }
      ]
    },
    {
      "cell_type": "markdown",
      "source": [
        "Reviews column"
      ],
      "metadata": {
        "id": "oxLKhfANPeO-"
      }
    },
    {
      "cell_type": "code",
      "source": [
        "data.boxplot(column='Reviews')"
      ],
      "metadata": {
        "colab": {
          "base_uri": "https://localhost:8080/",
          "height": 293
        },
        "id": "eER8NBnhPaAb",
        "outputId": "9b6c9919-386f-4fa5-81a8-70b523c21995"
      },
      "execution_count": 37,
      "outputs": [
        {
          "output_type": "execute_result",
          "data": {
            "text/plain": [
              "<matplotlib.axes._subplots.AxesSubplot at 0x7ff1db17b610>"
            ]
          },
          "metadata": {},
          "execution_count": 37
        },
        {
          "output_type": "display_data",
          "data": {
            "text/plain": [
              "<Figure size 432x288 with 1 Axes>"
            ],
            "image/png": "[encoded data removed]"
          },
          "metadata": {
            "needs_background": "light"
          }
        }
      ]
    },
    {
      "cell_type": "code",
      "source": [
        "reviews1m = data[data.Reviews>1000000].index\n",
        "data.drop(labels=reviews1m, inplace = True)\n",
        "print(\"Total number of deleted record in Reviews column is \",reviews1m.value_counts().sum())"
      ],
      "metadata": {
        "colab": {
          "base_uri": "https://localhost:8080/"
        },
        "id": "Jii_THdQPhoD",
        "outputId": "aa2d9828-f263-4666-93c9-cd2cfb79baa2"
      },
      "execution_count": 38,
      "outputs": [
        {
          "output_type": "stream",
          "name": "stdout",
          "text": [
            "Total number of deleted record in Reviews column is  704\n"
          ]
        }
      ]
    },
    {
      "cell_type": "markdown",
      "source": [
        "Installs\n",
        "\n",
        "i. What is the 95th percentile of the installs?"
      ],
      "metadata": {
        "id": "dUKYNL0HPs1C"
      }
    },
    {
      "cell_type": "code",
      "source": [
        "Pecentile95 = data.Installs.quantile(0.95)\n",
        "print(\"The value of 95 percentile of Installs is - \",Pecentile95)"
      ],
      "metadata": {
        "colab": {
          "base_uri": "https://localhost:8080/"
        },
        "id": "HxU8SsaCPkJL",
        "outputId": "fd5d613c-1ff4-4ad1-a643-24e1ecbf279b"
      },
      "execution_count": 39,
      "outputs": [
        {
          "output_type": "stream",
          "name": "stdout",
          "text": [
            "The value of 95 percentile of Installs is -  10000000.0\n"
          ]
        }
      ]
    },
    {
      "cell_type": "markdown",
      "source": [
        "Drop records having a value more than the 95th percentile"
      ],
      "metadata": {
        "id": "FuwD2QrbQEV7"
      }
    },
    {
      "cell_type": "code",
      "source": [
        "data.loc[data.Installs>10000000].count()"
      ],
      "metadata": {
        "colab": {
          "base_uri": "https://localhost:8080/"
        },
        "id": "TDkZgMmCP8Tz",
        "outputId": "5046257e-cc19-43bb-a4d1-d24a7abfaff6"
      },
      "execution_count": 40,
      "outputs": [
        {
          "output_type": "execute_result",
          "data": {
            "text/plain": [
              "App               199\n",
              "Category          199\n",
              "Rating            199\n",
              "Reviews           199\n",
              "Size              199\n",
              "Installs          199\n",
              "Type              199\n",
              "Price             199\n",
              "Content Rating    199\n",
              "Genres            199\n",
              "Last Updated      199\n",
              "Current Ver       199\n",
              "Android Ver       199\n",
              "dtype: int64"
            ]
          },
          "metadata": {},
          "execution_count": 40
        }
      ]
    },
    {
      "cell_type": "code",
      "source": [
        "percentilelimit95 = data[data.Installs>10000000].index"
      ],
      "metadata": {
        "id": "8MtjCAsDQI_y"
      },
      "execution_count": 41,
      "outputs": []
    },
    {
      "cell_type": "code",
      "source": [
        "data.drop(labels=percentilelimit95, inplace = True)\n",
        "print(\"Total number of deleted record in Percentile column is \", percentilelimit95.value_counts().sum())"
      ],
      "metadata": {
        "colab": {
          "base_uri": "https://localhost:8080/"
        },
        "id": "A6B67J-2QMww",
        "outputId": "442938b3-1e22-453a-ae82-9bddb7abc5b4"
      },
      "execution_count": 42,
      "outputs": [
        {
          "output_type": "stream",
          "name": "stdout",
          "text": [
            "Total number of deleted record in Percentile column is  199\n"
          ]
        }
      ]
    },
    {
      "cell_type": "markdown",
      "source": [
        "# Data Analysis"
      ],
      "metadata": {
        "id": "Wnvrc_GlQQkQ"
      }
    },
    {
      "cell_type": "markdown",
      "source": [
        "What is the distribution of ratings like? (use Seaborn) More skewed towards higher/lower values?"
      ],
      "metadata": {
        "id": "zcxqXGGGQYdc"
      }
    },
    {
      "cell_type": "code",
      "source": [
        "sns.distplot(data['Rating'])\n",
        "plt.show()\n",
        "print('The skewness of this distribution is',data['Rating'].skew())\n",
        "print('The Median of this distribution {} is greater than mean {} of this distribution'.format(data.Rating.median(),data.Rating.mean()))"
      ],
      "metadata": {
        "colab": {
          "base_uri": "https://localhost:8080/",
          "height": 371
        },
        "id": "XPg6uKheQO8x",
        "outputId": "e3c19d28-a594-40b1-d291-6efe240be1af"
      },
      "execution_count": 44,
      "outputs": [
        {
          "output_type": "stream",
          "name": "stderr",
          "text": [
            "/usr/local/lib/python3.7/dist-packages/seaborn/distributions.py:2619: FutureWarning: `distplot` is a deprecated function and will be removed in a future version. Please adapt your code to use either `displot` (a figure-level function with similar flexibility) or `histplot` (an axes-level function for histograms).\n",
            "  warnings.warn(msg, FutureWarning)\n"
          ]
        },
        {
          "output_type": "display_data",
          "data": {
            "text/plain": [
              "<Figure size 432x288 with 1 Axes>"
            ],
            "image/png": "[encoded data removed]"
          },
          "metadata": {
            "needs_background": "light"
          }
        },
        {
          "output_type": "stream",
          "name": "stdout",
          "text": [
            "The skewness of this distribution is -1.7434270330647985\n",
            "The Median of this distribution 4.3 is greater than mean 4.170800237107292 of this distribution\n"
          ]
        }
      ]
    },
    {
      "cell_type": "markdown",
      "source": [
        "implication of  analysis"
      ],
      "metadata": {
        "id": "5DZsg22gQjVf"
      }
    },
    {
      "cell_type": "code",
      "source": [
        "data['Rating'].mode()"
      ],
      "metadata": {
        "colab": {
          "base_uri": "https://localhost:8080/"
        },
        "id": "PEOnnpAsQXDJ",
        "outputId": "ed934df7-222a-4ff8-f6ec-0e4ae68abd7e"
      },
      "execution_count": 46,
      "outputs": [
        {
          "output_type": "execute_result",
          "data": {
            "text/plain": [
              "0    4.3\n",
              "dtype: float64"
            ]
          },
          "metadata": {},
          "execution_count": 46
        }
      ]
    },
    {
      "cell_type": "markdown",
      "source": [
        "Since mode> median > mean, the distribution of Rating is Negatively Skewed.\n",
        "Therefore distribution of Rating is more Skewed towards lower values.\n",
        "\n"
      ],
      "metadata": {
        "id": "Z5xdY3RWQpET"
      }
    },
    {
      "cell_type": "markdown",
      "source": [
        "### Top Content Rating values"
      ],
      "metadata": {
        "id": "RlTTYnzQQx9x"
      }
    },
    {
      "cell_type": "code",
      "source": [
        "data['Content Rating'].value_counts()"
      ],
      "metadata": {
        "colab": {
          "base_uri": "https://localhost:8080/"
        },
        "id": "VxuyXEYdQm37",
        "outputId": "f43d71ce-1031-4468-c393-4d469fb0529d"
      },
      "execution_count": 47,
      "outputs": [
        {
          "output_type": "execute_result",
          "data": {
            "text/plain": [
              "Everyone           6782\n",
              "Teen                900\n",
              "Mature 17+          417\n",
              "Everyone 10+        332\n",
              "Adults only 18+       3\n",
              "Unrated               1\n",
              "Name: Content Rating, dtype: int64"
            ]
          },
          "metadata": {},
          "execution_count": 47
        }
      ]
    },
    {
      "cell_type": "markdown",
      "source": [
        "Adult only 18+  and Underated have very few records"
      ],
      "metadata": {
        "id": "RAfTrA8iRN2p"
      }
    },
    {
      "cell_type": "code",
      "source": [
        "data.drop(data[data['Content Rating']=='Adults only 18+'].index, inplace =True)"
      ],
      "metadata": {
        "id": "Jl36R3ESRBcV"
      },
      "execution_count": 48,
      "outputs": []
    },
    {
      "cell_type": "code",
      "source": [
        "data.drop(data[data['Content Rating']=='Unrated'].index, inplace =True)"
      ],
      "metadata": {
        "id": "NFUFDMO8RRWn"
      },
      "execution_count": 49,
      "outputs": []
    },
    {
      "cell_type": "code",
      "source": [
        "data['Content Rating'].value_counts()"
      ],
      "metadata": {
        "colab": {
          "base_uri": "https://localhost:8080/"
        },
        "id": "_mOHmaNJRTis",
        "outputId": "39157a78-9b30-4004-a97c-2b976cf8dee4"
      },
      "execution_count": 50,
      "outputs": [
        {
          "output_type": "execute_result",
          "data": {
            "text/plain": [
              "Everyone        6782\n",
              "Teen             900\n",
              "Mature 17+       417\n",
              "Everyone 10+     332\n",
              "Name: Content Rating, dtype: int64"
            ]
          },
          "metadata": {},
          "execution_count": 50
        }
      ]
    },
    {
      "cell_type": "markdown",
      "source": [
        "#Effect of size on rating"
      ],
      "metadata": {
        "id": "EEmy-GbxRbsN"
      }
    },
    {
      "cell_type": "markdown",
      "source": [
        "Joinplot to understand the effect of size on rating"
      ],
      "metadata": {
        "id": "uX5EJ8xIRfO4"
      }
    },
    {
      "cell_type": "code",
      "source": [
        "# data = sns.load_dataset(\"data\")\n",
        "sns.jointplot(y='Size', x='Rating',kind='scatter',data=data)\n",
        "plt.show()"
      ],
      "metadata": {
        "colab": {
          "base_uri": "https://localhost:8080/",
          "height": 441
        },
        "id": "N4Rbcn6VRXK_",
        "outputId": "b6c9c608-ed22-4fac-8772-793a0b697d91"
      },
      "execution_count": 51,
      "outputs": [
        {
          "output_type": "display_data",
          "data": {
            "text/plain": [
              "<Figure size 432x432 with 3 Axes>"
            ],
            "image/png": "[encoded data removed]"
          },
          "metadata": {
            "needs_background": "light"
          }
        }
      ]
    },
    {
      "cell_type": "markdown",
      "source": [
        "patterns can be observed between Size and Rating. Most of the Playstore Rating lie in range 3.5 to 5 and most of the playstore Size lie in range 0 to 40000.\n",
        "\n",
        "Most of the Playstore Rating lie in range 3.5 to 5 and most of the playstore Size lie in range 0 to 40000. \n",
        "As the value of Rating increases the value of size also increases but at a certain point it seems to be constant. \n",
        "Therefore, there is a possitive relation in between Size and Rating."
      ],
      "metadata": {
        "id": "ez4z2JynRmYx"
      }
    },
    {
      "cell_type": "markdown",
      "source": [
        "# Effect of price on rating"
      ],
      "metadata": {
        "id": "jHfLQpFSRyTq"
      }
    },
    {
      "cell_type": "markdown",
      "source": [
        "Make a jointplot (with regression line)"
      ],
      "metadata": {
        "id": "lDvbn2ByR12R"
      }
    },
    {
      "cell_type": "code",
      "source": [
        "sns.jointplot(x='Price', y='Rating', kind='reg',data=data)\n",
        "plt.show()"
      ],
      "metadata": {
        "colab": {
          "base_uri": "https://localhost:8080/",
          "height": 441
        },
        "id": "mZfhxRW1RiUc",
        "outputId": "89ebb290-4ebd-42d2-fc30-7729b011d6c4"
      },
      "execution_count": 52,
      "outputs": [
        {
          "output_type": "display_data",
          "data": {
            "text/plain": [
              "<Figure size 432x432 with 3 Axes>"
            ],
            "image/png": "[encoded data removed]"
          },
          "metadata": {
            "needs_background": "light"
          }
        }
      ]
    },
    {
      "cell_type": "markdown",
      "source": [
        "Pattern show the following points- \n",
        " \n",
        "1. Most of the Rating lies in range  3.5 to 5.\n",
        "2. Most of the value of Price lies in range 0 to 5. \n",
        "3.     After a certain value of Price, Rating almost constant \n",
        "4.    The regression line show the relation between Price and Rating."
      ],
      "metadata": {
        "id": "LZ9PgpFdR8fx"
      }
    },
    {
      "cell_type": "markdown",
      "source": [
        "Rating is represented on y-axis and Price is represented on x-axis in the jointplot. \n",
        "Regression line is also represented on the jointplot which show the relation between Rating and Price.\n",
        "Most of the Price lies in range 0 to 5 and most of the Rating lies in range 3.5 to 5.\n",
        "As the value of price is increases rating is also increases but a very slow rate. \n",
        "After a certain point(Price=5) Price increases but the Rating almost like constant\n",
        "Thus it can be concluded that their is very weak Positive correlation between Rating and Price."
      ],
      "metadata": {
        "id": "AblJWzAWSNih"
      }
    },
    {
      "cell_type": "markdown",
      "source": [
        "## Replot the data, this time with only records with price > 0"
      ],
      "metadata": {
        "id": "vJTmUpK-SSSn"
      }
    },
    {
      "cell_type": "code",
      "source": [
        "priceabove0 =data.loc[data.Price>0]\n",
        "sns.jointplot(x='Price',y='Rating',  kind='reg', data=priceabove0)"
      ],
      "metadata": {
        "colab": {
          "base_uri": "https://localhost:8080/",
          "height": 458
        },
        "id": "FMqlJiasR39d",
        "outputId": "d32f62b6-aae1-4946-b727-c5f421f098b9"
      },
      "execution_count": 53,
      "outputs": [
        {
          "output_type": "execute_result",
          "data": {
            "text/plain": [
              "<seaborn.axisgrid.JointGrid at 0x7ff1d6af4a50>"
            ]
          },
          "metadata": {},
          "execution_count": 53
        },
        {
          "output_type": "display_data",
          "data": {
            "text/plain": [
              "<Figure size 432x432 with 3 Axes>"
            ],
            "image/png": "[encoded data removed]"
          },
          "metadata": {
            "needs_background": "light"
          }
        }
      ]
    },
    {
      "cell_type": "markdown",
      "source": [
        "Question- Does the pattern change?"
      ],
      "metadata": {
        "id": "Ief5j9LxSaSb"
      }
    },
    {
      "cell_type": "markdown",
      "source": [
        "Yes, pattern changes when we apply condition that price should be greater than 0. It is less from the previous one in which condition is not apply."
      ],
      "metadata": {
        "id": "TMqlaq0FSfEj"
      }
    },
    {
      "cell_type": "markdown",
      "source": [
        "The value of the rating is mostly lie in range between 4 to 5. \n",
        "    As the price greater than 5 the Rating almost constant irespective of change in price.\n",
        "    There is a weak correlation in between Rating and Price"
      ],
      "metadata": {
        "id": "Si5n0hi1Skrw"
      }
    },
    {
      "cell_type": "markdown",
      "source": [
        "# Pairplort with the colulmns - 'Reviews', 'Size', 'Rating', 'Price'"
      ],
      "metadata": {
        "id": "bldULkAJSo3U"
      }
    },
    {
      "cell_type": "code",
      "source": [
        "sns.pairplot(data, vars=['Reviews','Size', 'Rating', 'Price'])\n",
        "plt.show()"
      ],
      "metadata": {
        "colab": {
          "base_uri": "https://localhost:8080/",
          "height": 726
        },
        "id": "eESPR5XUSXNC",
        "outputId": "534fac3e-b95f-4e4c-99d8-f67262bd1738"
      },
      "execution_count": 55,
      "outputs": [
        {
          "output_type": "display_data",
          "data": {
            "text/plain": [
              "<Figure size 720x720 with 20 Axes>"
            ],
            "image/png": "[encoded data removed]"
          },
          "metadata": {
            "needs_background": "light"
          }
        }
      ]
    },
    {
      "cell_type": "markdown",
      "source": [
        "# Rating vs. content rating"
      ],
      "metadata": {
        "id": "eEIVIahlSxLv"
      }
    },
    {
      "cell_type": "markdown",
      "source": [
        "Bar plot displaying the rating for each content rating"
      ],
      "metadata": {
        "id": "9KbIOzjJS1HL"
      }
    },
    {
      "cell_type": "code",
      "source": [
        "sns.barplot(x='Rating', y='Content Rating', data= data)"
      ],
      "metadata": {
        "colab": {
          "base_uri": "https://localhost:8080/",
          "height": 296
        },
        "id": "5cbnTZANSeAh",
        "outputId": "1a165ff3-908a-4c65-bf40-a7dadd67b190"
      },
      "execution_count": 56,
      "outputs": [
        {
          "output_type": "execute_result",
          "data": {
            "text/plain": [
              "<matplotlib.axes._subplots.AxesSubplot at 0x7ff1d62ef4d0>"
            ]
          },
          "metadata": {},
          "execution_count": 56
        },
        {
          "output_type": "display_data",
          "data": {
            "text/plain": [
              "<Figure size 432x288 with 1 Axes>"
            ],
            "image/png": "[encoded data removed]"
          },
          "metadata": {
            "needs_background": "light"
          }
        }
      ]
    },
    {
      "cell_type": "markdown",
      "source": [
        "Mean? Median? Some other quantile?"
      ],
      "metadata": {
        "id": "A_wLbomES978"
      }
    },
    {
      "cell_type": "code",
      "source": [
        "plt.boxplot(data['Rating'])\n",
        "plt.show()"
      ],
      "metadata": {
        "colab": {
          "base_uri": "https://localhost:8080/",
          "height": 265
        },
        "id": "hWJvqOAVS441",
        "outputId": "d442c58b-7a7b-4cb3-ddb3-6f5e97fcab33"
      },
      "execution_count": 57,
      "outputs": [
        {
          "output_type": "display_data",
          "data": {
            "text/plain": [
              "<Figure size 432x288 with 1 Axes>"
            ],
            "image/png": "[encoded data removed]"
          },
          "metadata": {
            "needs_background": "light"
          }
        }
      ]
    },
    {
      "cell_type": "markdown",
      "source": [
        "the right metric and plot"
      ],
      "metadata": {
        "id": "JzaebfOoTEko"
      }
    },
    {
      "cell_type": "code",
      "source": [
        "data.groupby(['Content Rating'])['Rating'].median().plot.barh(color=\"darkgreen\")\n",
        "plt.show()"
      ],
      "metadata": {
        "colab": {
          "base_uri": "https://localhost:8080/",
          "height": 265
        },
        "id": "Wlj5XVL6S_0Z",
        "outputId": "c9d1543e-9ae6-40fc-cc3e-53ba2dca5f85"
      },
      "execution_count": 58,
      "outputs": [
        {
          "output_type": "display_data",
          "data": {
            "text/plain": [
              "<Figure size 432x288 with 1 Axes>"
            ],
            "image/png": "[encoded data removed]"
          },
          "metadata": {
            "needs_background": "light"
          }
        }
      ]
    },
    {
      "cell_type": "markdown",
      "source": [
        "## Content rating vs. size vs. rating – 3 variables at a time"
      ],
      "metadata": {
        "id": "4PBI_tfVTK82"
      }
    },
    {
      "cell_type": "markdown",
      "source": [
        "Create 5 buckets (20% records in each) based on Size"
      ],
      "metadata": {
        "id": "6-YA6UGfTLJI"
      }
    },
    {
      "cell_type": "code",
      "source": [
        "bins=[0, 20000, 40000, 60000, 80000, 100000]\n",
        "data['Bucket Size'] = pd.cut(data['Size'], bins, labels=['0-20k','20k-40k','40k-60k','60k-80k','80k-100k'])\n",
        "pd.pivot_table(data, values='Rating', index='Bucket Size', columns='Content Rating')"
      ],
      "metadata": {
        "colab": {
          "base_uri": "https://localhost:8080/",
          "height": 238
        },
        "id": "qCJFIiKbTGqP",
        "outputId": "db239f69-30bd-47d9-8c9e-dcbc83cc21b4"
      },
      "execution_count": 59,
      "outputs": [
        {
          "output_type": "execute_result",
          "data": {
            "text/plain": [
              "Content Rating  Everyone  Everyone 10+  Mature 17+      Teen\n",
              "Bucket Size                                                 \n",
              "0-20k           4.145730      4.247561    4.010582  4.182240\n",
              "20k-40k         4.200195      4.169811    4.156291  4.170432\n",
              "40k-60k         4.167083      4.263636    4.190476  4.237383\n",
              "60k-80k         4.245408      4.280769    4.200000  4.274194\n",
              "80k-100k        4.260127      4.304762    4.252632  4.270313"
            ],
            "text/html": [
              "\n",
              "  <div id=\"df-5b19dfa5-5379-4574-a822-daf12bac97e5\">\n",
              "    <div class=\"colab-df-container\">\n",
              "      <div>\n",
              "<style scoped>\n",
              "    .dataframe tbody tr th:only-of-type {\n",
              "        vertical-align: middle;\n",
              "    }\n",
              "\n",
              "    .dataframe tbody tr th {\n",
              "        vertical-align: top;\n",
              "    }\n",
              "\n",
              "    .dataframe thead th {\n",
              "        text-align: right;\n",
              "    }\n",
              "</style>\n",
              "<table border=\"1\" class=\"dataframe\">\n",
              "  <thead>\n",
              "    <tr style=\"text-align: right;\">\n",
              "      <th>Content Rating</th>\n",
              "      <th>Everyone</th>\n",
              "      <th>Everyone 10+</th>\n",
              "      <th>Mature 17+</th>\n",
              "      <th>Teen</th>\n",
              "    </tr>\n",
              "    <tr>\n",
              "      <th>Bucket Size</th>\n",
              "      <th></th>\n",
              "      <th></th>\n",
              "      <th></th>\n",
              "      <th></th>\n",
              "    </tr>\n",
              "  </thead>\n",
              "  <tbody>\n",
              "    <tr>\n",
              "      <th>0-20k</th>\n",
              "      <td>4.145730</td>\n",
              "      <td>4.247561</td>\n",
              "      <td>4.010582</td>\n",
              "      <td>4.182240</td>\n",
              "    </tr>\n",
              "    <tr>\n",
              "      <th>20k-40k</th>\n",
              "      <td>4.200195</td>\n",
              "      <td>4.169811</td>\n",
              "      <td>4.156291</td>\n",
              "      <td>4.170432</td>\n",
              "    </tr>\n",
              "    <tr>\n",
              "      <th>40k-60k</th>\n",
              "      <td>4.167083</td>\n",
              "      <td>4.263636</td>\n",
              "      <td>4.190476</td>\n",
              "      <td>4.237383</td>\n",
              "    </tr>\n",
              "    <tr>\n",
              "      <th>60k-80k</th>\n",
              "      <td>4.245408</td>\n",
              "      <td>4.280769</td>\n",
              "      <td>4.200000</td>\n",
              "      <td>4.274194</td>\n",
              "    </tr>\n",
              "    <tr>\n",
              "      <th>80k-100k</th>\n",
              "      <td>4.260127</td>\n",
              "      <td>4.304762</td>\n",
              "      <td>4.252632</td>\n",
              "      <td>4.270313</td>\n",
              "    </tr>\n",
              "  </tbody>\n",
              "</table>\n",
              "</div>\n",
              "      <button class=\"colab-df-convert\" onclick=\"convertToInteractive('df-5b19dfa5-5379-4574-a822-daf12bac97e5')\"\n",
              "              title=\"Convert this dataframe to an interactive table.\"\n",
              "              style=\"display:none;\">\n",
              "        \n",
              "  <svg xmlns=\"http://www.w3.org/2000/svg\" height=\"24px\"viewBox=\"0 0 24 24\"\n",
              "       width=\"24px\">\n",
              "    <path d=\"M0 0h24v24H0V0z\" fill=\"none\"/>\n",
              "    <path d=\"M18.56 5.44l.94 2.06.94-2.06 2.06-.94-2.06-.94-.94-2.06-.94 2.06-2.06.94zm-11 1L8.5 8.5l.94-2.06 2.06-.94-2.06-.94L8.5 2.5l-.94 2.06-2.06.94zm10 10l.94 2.06.94-2.06 2.06-.94-2.06-.94-.94-2.06-.94 2.06-2.06.94z\"/><path d=\"M17.41 7.96l-1.37-1.37c-.4-.4-.92-.59-1.43-.59-.52 0-1.04.2-1.43.59L10.3 9.45l-7.72 7.72c-.78.78-.78 2.05 0 2.83L4 21.41c.39.39.9.59 1.41.59.51 0 1.02-.2 1.41-.59l7.78-7.78 2.81-2.81c.8-.78.8-2.07 0-2.86zM5.41 20L4 18.59l7.72-7.72 1.47 1.35L5.41 20z\"/>\n",
              "  </svg>\n",
              "      </button>\n",
              "      \n",
              "  <style>\n",
              "    .colab-df-container {\n",
              "      display:flex;\n",
              "      flex-wrap:wrap;\n",
              "      gap: 12px;\n",
              "    }\n",
              "\n",
              "    .colab-df-convert {\n",
              "      background-color: #E8F0FE;\n",
              "      border: none;\n",
              "      border-radius: 50%;\n",
              "      cursor: pointer;\n",
              "      display: none;\n",
              "      fill: #1967D2;\n",
              "      height: 32px;\n",
              "      padding: 0 0 0 0;\n",
              "      width: 32px;\n",
              "    }\n",
              "\n",
              "    .colab-df-convert:hover {\n",
              "      background-color: #E2EBFA;\n",
              "      box-shadow: 0px 1px 2px rgba(60, 64, 67, 0.3), 0px 1px 3px 1px rgba(60, 64, 67, 0.15);\n",
              "      fill: #174EA6;\n",
              "    }\n",
              "\n",
              "    [theme=dark] .colab-df-convert {\n",
              "      background-color: #3B4455;\n",
              "      fill: #D2E3FC;\n",
              "    }\n",
              "\n",
              "    [theme=dark] .colab-df-convert:hover {\n",
              "      background-color: #434B5C;\n",
              "      box-shadow: 0px 1px 3px 1px rgba(0, 0, 0, 0.15);\n",
              "      filter: drop-shadow(0px 1px 2px rgba(0, 0, 0, 0.3));\n",
              "      fill: #FFFFFF;\n",
              "    }\n",
              "  </style>\n",
              "\n",
              "      <script>\n",
              "        const buttonEl =\n",
              "          document.querySelector('#df-5b19dfa5-5379-4574-a822-daf12bac97e5 button.colab-df-convert');\n",
              "        buttonEl.style.display =\n",
              "          google.colab.kernel.accessAllowed ? 'block' : 'none';\n",
              "\n",
              "        async function convertToInteractive(key) {\n",
              "          const element = document.querySelector('#df-5b19dfa5-5379-4574-a822-daf12bac97e5');\n",
              "          const dataTable =\n",
              "            await google.colab.kernel.invokeFunction('convertToInteractive',\n",
              "                                                     [key], {});\n",
              "          if (!dataTable) return;\n",
              "\n",
              "          const docLinkHtml = 'Like what you see? Visit the ' +\n",
              "            '<a target=\"_blank\" href=https://colab.research.google.com/notebooks/data_table.ipynb>data table notebook</a>'\n",
              "            + ' to learn more about interactive tables.';\n",
              "          element.innerHTML = '';\n",
              "          dataTable['output_type'] = 'display_data';\n",
              "          await google.colab.output.renderOutput(dataTable, element);\n",
              "          const docLink = document.createElement('div');\n",
              "          docLink.innerHTML = docLinkHtml;\n",
              "          element.appendChild(docLink);\n",
              "        }\n",
              "      </script>\n",
              "    </div>\n",
              "  </div>\n",
              "  "
            ]
          },
          "metadata": {},
          "execution_count": 59
        }
      ]
    },
    {
      "cell_type": "markdown",
      "source": [
        "By Content Rating vs. Size buckets, get the rating (20th percentile) for each combination"
      ],
      "metadata": {
        "id": "NnDAKX4YTY5I"
      }
    },
    {
      "cell_type": "code",
      "source": [
        "pd.pivot_table(data, values='Rating', index='Bucket Size', columns='Content Rating', aggfunc = lambda x:np.percentile(x,25))"
      ],
      "metadata": {
        "colab": {
          "base_uri": "https://localhost:8080/",
          "height": 238
        },
        "id": "6GXVPh5GTSa9",
        "outputId": "cf283465-6d83-433b-966d-4710009493b9"
      },
      "execution_count": 60,
      "outputs": [
        {
          "output_type": "execute_result",
          "data": {
            "text/plain": [
              "Content Rating  Everyone  Everyone 10+  Mature 17+  Teen\n",
              "Bucket Size                                             \n",
              "0-20k                3.9         4.100         3.6   4.0\n",
              "20k-40k              4.0         4.000         4.0   4.0\n",
              "40k-60k              4.0         4.100         4.1   4.0\n",
              "60k-80k              4.0         4.125         4.0   4.1\n",
              "80k-100k             4.1         4.100         4.0   4.1"
            ],
            "text/html": [
              "\n",
              "  <div id=\"df-0b9e32a3-03fd-4453-bca1-014f25527d2e\">\n",
              "    <div class=\"colab-df-container\">\n",
              "      <div>\n",
              "<style scoped>\n",
              "    .dataframe tbody tr th:only-of-type {\n",
              "        vertical-align: middle;\n",
              "    }\n",
              "\n",
              "    .dataframe tbody tr th {\n",
              "        vertical-align: top;\n",
              "    }\n",
              "\n",
              "    .dataframe thead th {\n",
              "        text-align: right;\n",
              "    }\n",
              "</style>\n",
              "<table border=\"1\" class=\"dataframe\">\n",
              "  <thead>\n",
              "    <tr style=\"text-align: right;\">\n",
              "      <th>Content Rating</th>\n",
              "      <th>Everyone</th>\n",
              "      <th>Everyone 10+</th>\n",
              "      <th>Mature 17+</th>\n",
              "      <th>Teen</th>\n",
              "    </tr>\n",
              "    <tr>\n",
              "      <th>Bucket Size</th>\n",
              "      <th></th>\n",
              "      <th></th>\n",
              "      <th></th>\n",
              "      <th></th>\n",
              "    </tr>\n",
              "  </thead>\n",
              "  <tbody>\n",
              "    <tr>\n",
              "      <th>0-20k</th>\n",
              "      <td>3.9</td>\n",
              "      <td>4.100</td>\n",
              "      <td>3.6</td>\n",
              "      <td>4.0</td>\n",
              "    </tr>\n",
              "    <tr>\n",
              "      <th>20k-40k</th>\n",
              "      <td>4.0</td>\n",
              "      <td>4.000</td>\n",
              "      <td>4.0</td>\n",
              "      <td>4.0</td>\n",
              "    </tr>\n",
              "    <tr>\n",
              "      <th>40k-60k</th>\n",
              "      <td>4.0</td>\n",
              "      <td>4.100</td>\n",
              "      <td>4.1</td>\n",
              "      <td>4.0</td>\n",
              "    </tr>\n",
              "    <tr>\n",
              "      <th>60k-80k</th>\n",
              "      <td>4.0</td>\n",
              "      <td>4.125</td>\n",
              "      <td>4.0</td>\n",
              "      <td>4.1</td>\n",
              "    </tr>\n",
              "    <tr>\n",
              "      <th>80k-100k</th>\n",
              "      <td>4.1</td>\n",
              "      <td>4.100</td>\n",
              "      <td>4.0</td>\n",
              "      <td>4.1</td>\n",
              "    </tr>\n",
              "  </tbody>\n",
              "</table>\n",
              "</div>\n",
              "      <button class=\"colab-df-convert\" onclick=\"convertToInteractive('df-0b9e32a3-03fd-4453-bca1-014f25527d2e')\"\n",
              "              title=\"Convert this dataframe to an interactive table.\"\n",
              "              style=\"display:none;\">\n",
              "        \n",
              "  <svg xmlns=\"http://www.w3.org/2000/svg\" height=\"24px\"viewBox=\"0 0 24 24\"\n",
              "       width=\"24px\">\n",
              "    <path d=\"M0 0h24v24H0V0z\" fill=\"none\"/>\n",
              "    <path d=\"M18.56 5.44l.94 2.06.94-2.06 2.06-.94-2.06-.94-.94-2.06-.94 2.06-2.06.94zm-11 1L8.5 8.5l.94-2.06 2.06-.94-2.06-.94L8.5 2.5l-.94 2.06-2.06.94zm10 10l.94 2.06.94-2.06 2.06-.94-2.06-.94-.94-2.06-.94 2.06-2.06.94z\"/><path d=\"M17.41 7.96l-1.37-1.37c-.4-.4-.92-.59-1.43-.59-.52 0-1.04.2-1.43.59L10.3 9.45l-7.72 7.72c-.78.78-.78 2.05 0 2.83L4 21.41c.39.39.9.59 1.41.59.51 0 1.02-.2 1.41-.59l7.78-7.78 2.81-2.81c.8-.78.8-2.07 0-2.86zM5.41 20L4 18.59l7.72-7.72 1.47 1.35L5.41 20z\"/>\n",
              "  </svg>\n",
              "      </button>\n",
              "      \n",
              "  <style>\n",
              "    .colab-df-container {\n",
              "      display:flex;\n",
              "      flex-wrap:wrap;\n",
              "      gap: 12px;\n",
              "    }\n",
              "\n",
              "    .colab-df-convert {\n",
              "      background-color: #E8F0FE;\n",
              "      border: none;\n",
              "      border-radius: 50%;\n",
              "      cursor: pointer;\n",
              "      display: none;\n",
              "      fill: #1967D2;\n",
              "      height: 32px;\n",
              "      padding: 0 0 0 0;\n",
              "      width: 32px;\n",
              "    }\n",
              "\n",
              "    .colab-df-convert:hover {\n",
              "      background-color: #E2EBFA;\n",
              "      box-shadow: 0px 1px 2px rgba(60, 64, 67, 0.3), 0px 1px 3px 1px rgba(60, 64, 67, 0.15);\n",
              "      fill: #174EA6;\n",
              "    }\n",
              "\n",
              "    [theme=dark] .colab-df-convert {\n",
              "      background-color: #3B4455;\n",
              "      fill: #D2E3FC;\n",
              "    }\n",
              "\n",
              "    [theme=dark] .colab-df-convert:hover {\n",
              "      background-color: #434B5C;\n",
              "      box-shadow: 0px 1px 3px 1px rgba(0, 0, 0, 0.15);\n",
              "      filter: drop-shadow(0px 1px 2px rgba(0, 0, 0, 0.3));\n",
              "      fill: #FFFFFF;\n",
              "    }\n",
              "  </style>\n",
              "\n",
              "      <script>\n",
              "        const buttonEl =\n",
              "          document.querySelector('#df-0b9e32a3-03fd-4453-bca1-014f25527d2e button.colab-df-convert');\n",
              "        buttonEl.style.display =\n",
              "          google.colab.kernel.accessAllowed ? 'block' : 'none';\n",
              "\n",
              "        async function convertToInteractive(key) {\n",
              "          const element = document.querySelector('#df-0b9e32a3-03fd-4453-bca1-014f25527d2e');\n",
              "          const dataTable =\n",
              "            await google.colab.kernel.invokeFunction('convertToInteractive',\n",
              "                                                     [key], {});\n",
              "          if (!dataTable) return;\n",
              "\n",
              "          const docLinkHtml = 'Like what you see? Visit the ' +\n",
              "            '<a target=\"_blank\" href=https://colab.research.google.com/notebooks/data_table.ipynb>data table notebook</a>'\n",
              "            + ' to learn more about interactive tables.';\n",
              "          element.innerHTML = '';\n",
              "          dataTable['output_type'] = 'display_data';\n",
              "          await google.colab.output.renderOutput(dataTable, element);\n",
              "          const docLink = document.createElement('div');\n",
              "          docLink.innerHTML = docLinkHtml;\n",
              "          element.appendChild(docLink);\n",
              "        }\n",
              "      </script>\n",
              "    </div>\n",
              "  </div>\n",
              "  "
            ]
          },
          "metadata": {},
          "execution_count": 60
        }
      ]
    },
    {
      "cell_type": "markdown",
      "source": [
        "## Heatmap of this"
      ],
      "metadata": {
        "id": "b68lrmW1TfkK"
      }
    },
    {
      "cell_type": "code",
      "source": [
        "pivotd = pd.pivot_table(data, values='Rating', index='Bucket Size', columns='Content Rating', aggfunc = lambda x:np.percentile(x,25))"
      ],
      "metadata": {
        "id": "PSBUNT0GTbN_"
      },
      "execution_count": 61,
      "outputs": []
    },
    {
      "cell_type": "code",
      "source": [
        "sns.heatmap(pivotd,  annot=True, linewidth = 0.9, cmap='coolwarm')\n",
        "plt.show()"
      ],
      "metadata": {
        "colab": {
          "base_uri": "https://localhost:8080/",
          "height": 279
        },
        "id": "5r7Uw4EATmjz",
        "outputId": "f1e69c22-ac75-4c0c-a83c-b18bcda4f0d8"
      },
      "execution_count": 62,
      "outputs": [
        {
          "output_type": "display_data",
          "data": {
            "text/plain": [
              "<Figure size 432x288 with 2 Axes>"
            ],
            "image/png": "[encoded data removed]"
          },
          "metadata": {
            "needs_background": "light"
          }
        }
      ]
    },
    {
      "cell_type": "markdown",
      "source": [
        "According to given data heavier size apps have higher rating than lighter size apps. \n",
        "Rating vs Size vs Content Rating represented in heat map that show heavier app Size (60-80, 80-100) have higher Rating(4-4.1) in all category.\n",
        "Therefore, insights come from the data is heavier app Size is most preferable for all category."
      ],
      "metadata": {
        "id": "ExBafZdlTwNg"
      }
    },
    {
      "cell_type": "code",
      "source": [
        ""
      ],
      "metadata": {
        "id": "HGRAv0cETo0W"
      },
      "execution_count": null,
      "outputs": []
    }
  ]
}